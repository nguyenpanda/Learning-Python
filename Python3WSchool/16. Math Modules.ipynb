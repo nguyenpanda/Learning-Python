{
 "cells": [
  {
   "cell_type": "markdown",
   "source": [
    "# Math Modules"
   ],
   "metadata": {
    "collapsed": false
   },
   "id": "965651852619fd3d"
  },
  {
   "cell_type": "code",
   "execution_count": 2,
   "outputs": [],
   "source": [
    "import math"
   ],
   "metadata": {
    "collapsed": false,
    "ExecuteTime": {
     "end_time": "2023-11-02T06:43:14.857753Z",
     "start_time": "2023-11-02T06:43:14.466367Z"
    }
   },
   "id": "36ca4427657ef609"
  },
  {
   "cell_type": "markdown",
   "source": [
    "# Simple Function\n",
    "<table style=\"width:100%\">\n",
    "  <tr>\n",
    "    <td>math.floor()</td>\n",
    "    <td>Rounds a number down to the nearest integer</td>\n",
    "  </tr>\n",
    "  \n",
    "  <tr>\n",
    "    <td>math.ceil()</td>\n",
    "    <td>Rounds a number up to the nearest integer</td>\n",
    "  </tr>\n",
    "  \n",
    "  <tr>\n",
    "    <td>math.pow()</td>\n",
    "    <td>Returns the value of x to the power of y</td>\n",
    "  </tr>\n",
    "\n",
    "  <tr>\n",
    "    <td>math.sqrt()</td>\n",
    "    <td>Returns the square root of a number</td>\n",
    "  </tr>\n",
    "\n",
    "  <tr>\n",
    "    <td>math.fabs()</td>\n",
    "    <td>Returns the absolute value of a number</td>\n",
    "  </tr>\n",
    "  \n",
    "  <tr>\n",
    "    <td>math.copysign()</td>\n",
    "    <td>Returns a float consisting of the value of the first parameter and the sign of the second parameter</td>\n",
    "  </tr>\n",
    "  \n",
    "  <tr>\n",
    "    <td>math.trunc()</td>\n",
    "    <td>Returns the truncated integer parts of a number</td>\n",
    "  </tr>\n",
    "  \n",
    "  <tr>\n",
    "    <td>math.gcd()</td>\n",
    "    <td>Returns the greatest common divisor of two integers</td>\n",
    "  </tr>\n",
    "  \n",
    "  <tr>\n",
    "    <td>math.remainder()</td>\n",
    "    <td>Returns the closest value that can make numerator completely divisible by the denominator</td>\n",
    "  </tr>\n",
    "  \n",
    "  <tr>\n",
    "    <td>math.fmod()</td>\n",
    "    <td>Returns the remainder of x/y</td>\n",
    "  </tr>\n",
    "  \n",
    "  <tr>\n",
    "    <td>math.isqrt()</td>\n",
    "    <td>Rounds a square root number downwards to the nearest integer</td>\n",
    "  </tr>\n",
    "  \n",
    "  <tr>\n",
    "    <td>math.fsum()</td>\n",
    "    <td>Returns the sum of all items in any iterable (tuples, arrays, lists, etc.)</td>\n",
    "  </tr>\n",
    "  \n",
    "  <tr>\n",
    "    <td>math.prod()</td>\n",
    "    <td>Returns the product of all the elements in an iterable</td>\n",
    "  </tr>\n",
    "</table>\n",
    "\n",
    "# Factorial\n",
    "<table style=\"width:100%\">\n",
    "  <tr>\n",
    "    <td>math.comb()</td>\n",
    "    <td>Returns the number of ways to choose k items from n items without repetition and order</td>\n",
    "  </tr>\n",
    "  \n",
    "  <tr>\n",
    "    <td>math.factorial()</td>\n",
    "    <td>Returns the factorial of a number</td>\n",
    "  </tr>\n",
    "  \n",
    "  <tr>\n",
    "    <td>math.perm()</td>\n",
    "    <td>Returns the number of ways to choose k items from n items with order and without repetition</td>\n",
    "  </tr>\n",
    "</table>"
   ],
   "metadata": {
    "collapsed": false
   },
   "id": "a28a31f9d07d78d2"
  },
  {
   "cell_type": "code",
   "execution_count": 3,
   "outputs": [
    {
     "name": "stdout",
     "output_type": "stream",
     "text": [
      "-2.0\n",
      "0.0\n",
      "2.0\n"
     ]
    }
   ],
   "source": [
    "a = 181214\n",
    "b = 4\n",
    "print(math.remainder(a, b))\n",
    "print((a - math.remainder(a, b)) % b) #  it can\n",
    "\n",
    "print(math.fmod(a, b))  # 107 % 4"
   ],
   "metadata": {
    "collapsed": false,
    "ExecuteTime": {
     "end_time": "2023-11-02T06:43:15.036066Z",
     "start_time": "2023-11-02T06:43:14.479945Z"
    }
   },
   "id": "c9d9247362e2b5d2"
  },
  {
   "cell_type": "code",
   "execution_count": 3,
   "outputs": [],
   "source": [],
   "metadata": {
    "collapsed": false,
    "ExecuteTime": {
     "end_time": "2023-11-02T06:43:15.154610Z",
     "start_time": "2023-11-02T06:43:14.489733Z"
    }
   },
   "id": "c9e40ad0d8b7210a"
  },
  {
   "cell_type": "markdown",
   "source": [
    "# Checking\n",
    "<table style=\"width:100%\">\n",
    "  <tr>\n",
    "    <td>math.isclose()</td>\n",
    "    <td>Checks whether two values are close to each other, or not</td>\n",
    "  </tr>\n",
    "  <tr>\n",
    "    <td>math.isfinite()</td>\n",
    "    <td>Checks whether a number is finite or not</td>\n",
    "  </tr>\n",
    "  <tr>\n",
    "    <td>math.isinf()</td>\n",
    "    <td>Checks whether a number is infinite or not</td>\n",
    "  </tr>\n",
    "  <tr>\n",
    "    <td>math.isnan()</td>\n",
    "    <td>Checks whether a value is NaN (not a number) or not</td>\n",
    "  </tr>\n",
    "</table>"
   ],
   "metadata": {
    "collapsed": false
   },
   "id": "f70dab7bb6683fad"
  },
  {
   "cell_type": "code",
   "execution_count": 15,
   "outputs": [],
   "source": [],
   "metadata": {
    "collapsed": false,
    "ExecuteTime": {
     "end_time": "2023-11-02T06:47:23.423345Z",
     "start_time": "2023-11-02T06:47:23.359507Z"
    }
   },
   "id": "be04853514618c3e"
  },
  {
   "cell_type": "code",
   "execution_count": 4,
   "outputs": [],
   "source": [],
   "metadata": {
    "collapsed": false,
    "ExecuteTime": {
     "end_time": "2023-11-02T06:43:15.156693Z",
     "start_time": "2023-11-02T06:43:14.506278Z"
    }
   },
   "id": "3cee3178d40be44"
  },
  {
   "cell_type": "markdown",
   "source": [
    "# Geometry\n",
    "<table style=\"width:100%\">\n",
    "  <tr>\n",
    "    <th>Method</th>\n",
    "    <th>Description</th>\n",
    "  </tr>\n",
    "\n",
    "  <tr>\n",
    "    <td>math.acos()</td>\n",
    "    <td>Returns the arc cosine of a number</td>\n",
    "  </tr>\n",
    "  <tr>\n",
    "    <td>math.acosh()</td>\n",
    "    <td>Returns the inverse hyperbolic cosine of a number</td>\n",
    "  </tr>\n",
    "  <tr>\n",
    "    <td>math.asin()</td>\n",
    "    <td>Returns the arc sine of a number</td>\n",
    "  </tr>\n",
    "  <tr>\n",
    "    <td>math.asinh()</td>\n",
    "    <td>Returns the inverse hyperbolic sine of a number</td>\n",
    "  </tr>\n",
    "  <tr>\n",
    "    <td>math.atan()</td>\n",
    "    <td>Returns the arc tangent of a number in radians</td>\n",
    "  </tr>\n",
    "  <tr>\n",
    "    <td>math.atan2()</td>\n",
    "    <td>Returns the arc tangent of y/x in radians</td>\n",
    "  </tr>\n",
    "  <tr>\n",
    "    <td>math.atanh()</td>\n",
    "    <td>Returns the inverse hyperbolic tangent of a number</td>\n",
    "  </tr>\n",
    "  <tr>\n",
    "    <td>math.cos()</td>\n",
    "    <td>Returns the cosine of a number</td>\n",
    "  </tr>\n",
    "  <tr>\n",
    "    <td>math.cosh()</td>\n",
    "    <td>Returns the hyperbolic cosine of a number</td>\n",
    "  </tr>\n",
    "  <tr>\n",
    "    <td>math.sin()</td>\n",
    "    <td>Returns the sine of a number</td>\n",
    "  </tr>\n",
    "  <tr>\n",
    "    <td>math.sinh()</td>\n",
    "    <td>Returns the hyperbolic sine of a number</td>\n",
    "  </tr>\n",
    "  <tr>\n",
    "    <td>math.tan()</td>\n",
    "    <td>Returns the tangent of a number</td>\n",
    "  </tr>\n",
    "  <tr>\n",
    "    <td>math.tanh()</td>\n",
    "    <td>Returns the hyperbolic tangent of a number</td>\n",
    "  </tr>  \n",
    "  <tr>\n",
    "    <td>math.degrees()</td>\n",
    "    <td>Converts an angle from radians to degrees</td>\n",
    "  </tr>\n",
    "  <tr>\n",
    "    <td>math.radians()</td>\n",
    "    <td>Converts a degree value into radians</td>\n",
    "  </tr>\n",
    "  <tr>\n",
    "    <td>math.dist()</td>\n",
    "    <td>Returns the Euclidean distance between two points (p and q), where p and q are the coordinates of that point</td>\n",
    "  </tr>\n",
    "  <tr>\n",
    "    <td>math.hypot()</td>\n",
    "    <td>Returns the Euclidean norm</td>\n",
    "  </tr>\n",
    "</table>"
   ],
   "metadata": {
    "collapsed": false
   },
   "id": "a1192f820500302a"
  },
  {
   "cell_type": "code",
   "execution_count": 4,
   "outputs": [],
   "source": [],
   "metadata": {
    "collapsed": false,
    "ExecuteTime": {
     "end_time": "2023-11-02T06:43:15.157361Z",
     "start_time": "2023-11-02T06:43:14.515236Z"
    }
   },
   "id": "2c4ff65b15cb3a57"
  },
  {
   "cell_type": "markdown",
   "source": [
    "# Function\n",
    "<table style=\"width:100%\">\n",
    "  <tr>\n",
    "    <td>math.exp()</td>\n",
    "    <td>Returns E raised to the power of x</td>\n",
    "  </tr>\n",
    "  <tr>\n",
    "    <td>math.expm1()</td>\n",
    "    <td>Returns Ex - 1</td>\n",
    "  </tr>\n",
    "  \n",
    "  <tr>\n",
    "    <td>math.frexp()</td>\n",
    "    <td>Returns the mantissa and the exponent, of a specified number</td>\n",
    "  </tr>\n",
    "\n",
    "  <tr>\n",
    "    <td>math.ldexp()</td>\n",
    "    <td>Returns the inverse of math.frexp() which is x * (2**i) of the given numbers x and i</td>\n",
    "  </tr>\n",
    "  \n",
    "  <tr>\n",
    "    <td>math.log()</td>\n",
    "    <td>Returns the natural logarithm of a number, or the logarithm of number to base</td>\n",
    "  </tr>\n",
    "  <tr>\n",
    "    <td>math.log10()</td>\n",
    "    <td>Returns the base-10 logarithm of x</td>\n",
    "  </tr>\n",
    "  <tr>\n",
    "    <td>math.log1p()</td>\n",
    "    <td>Returns the natural logarithm of 1+x</td>\n",
    "  </tr>\n",
    "  <tr>\n",
    "    <td>math.log2()</td>\n",
    "    <td>Returns the base-2 logarithm of x</td>\n",
    "  </tr>\n",
    "  \n",
    "  <tr>\n",
    "    <td>math.gamma()</td>\n",
    "    <td>Returns the gamma function at x</td>\n",
    "  </tr>\n",
    "\n",
    "  <tr>\n",
    "    <td>math.lgamma()</td>\n",
    "    <td>Returns the log gamma value of x</td>\n",
    "  </tr>\n",
    "  \n",
    "  <tr>\n",
    "    <td>math.erf()</td>\n",
    "    <td>Returns the error function of a number</td>\n",
    "  </tr>\n",
    "  <tr>\n",
    "    <td>math.erfc()</td>\n",
    "    <td>Returns the complementary error function of a number</td>\n",
    "  </tr>\n",
    "</table>"
   ],
   "metadata": {
    "collapsed": false
   },
   "id": "40d8635ee3439ad0"
  },
  {
   "cell_type": "code",
   "execution_count": 16,
   "outputs": [
    {
     "name": "stdout",
     "output_type": "stream",
     "text": [
      "1.6609640474436813\n",
      "2.718281828459045\n",
      "1.7182818284590453\n",
      "(0.5, 1)\n",
      "4.0\n"
     ]
    }
   ],
   "source": [
    "y = 10\n",
    "print(math.log(y, 4))\n",
    "\n",
    "x = 1\n",
    "print(math.exp(x))\n",
    "print(math.expm1(x))\n",
    "print(math.frexp(x))\n",
    "print(math.ldexp(x, 2))"
   ],
   "metadata": {
    "collapsed": false,
    "ExecuteTime": {
     "end_time": "2023-11-02T06:47:58.894472Z",
     "start_time": "2023-11-02T06:47:58.871389Z"
    }
   },
   "id": "c5e4c47a0aa1818"
  },
  {
   "cell_type": "markdown",
   "source": [],
   "metadata": {
    "collapsed": false
   },
   "id": "980675110dd897c7"
  }
 ],
 "metadata": {
  "kernelspec": {
   "display_name": "Python 3",
   "language": "python",
   "name": "python3"
  },
  "language_info": {
   "codemirror_mode": {
    "name": "ipython",
    "version": 2
   },
   "file_extension": ".py",
   "mimetype": "text/x-python",
   "name": "python",
   "nbconvert_exporter": "python",
   "pygments_lexer": "ipython2",
   "version": "2.7.6"
  }
 },
 "nbformat": 4,
 "nbformat_minor": 5
}
