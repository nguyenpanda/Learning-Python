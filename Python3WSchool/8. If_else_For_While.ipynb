{
 "cells": [
  {
   "cell_type": "markdown",
   "source": [
    "# If - Elif - Else Statement\n",
    "#### Ternary Operators/Conditional Expressions."
   ],
   "metadata": {
    "collapsed": false
   },
   "id": "c6dc1d034f254c0a"
  },
  {
   "cell_type": "code",
   "execution_count": 5,
   "id": "initial_id",
   "metadata": {
    "collapsed": true,
    "ExecuteTime": {
     "end_time": "2023-11-02T06:45:05.602729Z",
     "start_time": "2023-11-02T06:45:05.533011Z"
    }
   },
   "outputs": [
    {
     "name": "stdout",
     "output_type": "stream",
     "text": [
      "B\n"
     ]
    }
   ],
   "source": [
    "# Ternary Operators/Conditional Expressions.\n",
    "a = 2\n",
    "b = 330\n",
    "print(\"A\") if a > b else print(\"B\")"
   ]
  },
  {
   "cell_type": "markdown",
   "source": [
    "# While and For Statement\n",
    "### Break & Continue\n",
    "- With the break statement we can stop the loop even if the while condition is true\n",
    "- With the continue statement we can stop the current iteration, and continue with the next"
   ],
   "metadata": {
    "collapsed": false
   },
   "id": "157dc5c72598dbab"
  },
  {
   "cell_type": "code",
   "execution_count": 6,
   "outputs": [
    {
     "name": "stdout",
     "output_type": "stream",
     "text": [
      "1, 2, 4, 5, 6, "
     ]
    }
   ],
   "source": [
    "i = 0\n",
    "while i < 6:\n",
    "  i += 1\n",
    "  if i == 3:\n",
    "    continue\n",
    "  print(i, end=', ')"
   ],
   "metadata": {
    "collapsed": false,
    "ExecuteTime": {
     "end_time": "2023-11-02T06:45:05.666095Z",
     "start_time": "2023-11-02T06:45:05.544241Z"
    }
   },
   "id": "85fba9b49e45313d"
  },
  {
   "cell_type": "markdown",
   "source": [
    "# The else Statement with while and for statement"
   ],
   "metadata": {
    "collapsed": false
   },
   "id": "87d80e205a9717cf"
  },
  {
   "cell_type": "code",
   "execution_count": 7,
   "outputs": [
    {
     "name": "stdout",
     "output_type": "stream",
     "text": [
      "1, 2, 3, 4, 5, \n",
      "i is no longer less than 6\n",
      "0, 1, 2, 3, 4, 5, \n",
      "Finally finished!\n"
     ]
    }
   ],
   "source": [
    "i = 1\n",
    "while i < 6:\n",
    "  print(i, end=', ')\n",
    "  i += 1\n",
    "else:\n",
    "  print(\"\\ni is no longer less than 6\")\n",
    "\n",
    "\n",
    "for x in range(6):\n",
    "  print(x, end=', ')\n",
    "else:\n",
    "  print(\"\\nFinally finished!\")"
   ],
   "metadata": {
    "collapsed": false,
    "ExecuteTime": {
     "end_time": "2023-11-02T06:45:05.666680Z",
     "start_time": "2023-11-02T06:45:05.553610Z"
    }
   },
   "id": "510b28d0cfe5b76b"
  },
  {
   "cell_type": "code",
   "execution_count": 8,
   "outputs": [
    {
     "ename": "SyntaxError",
     "evalue": "invalid syntax (3632138542.py, line 1)",
     "output_type": "error",
     "traceback": [
      "\u001B[0;36m  Cell \u001B[0;32mIn[8], line 1\u001B[0;36m\u001B[0m\n\u001B[0;31m    =\u001B[0m\n\u001B[0m    ^\u001B[0m\n\u001B[0;31mSyntaxError\u001B[0m\u001B[0;31m:\u001B[0m invalid syntax\n"
     ]
    }
   ],
   "source": [
    "="
   ],
   "metadata": {
    "collapsed": false,
    "ExecuteTime": {
     "end_time": "2023-11-02T06:45:05.667079Z",
     "start_time": "2023-11-02T06:45:05.564331Z"
    }
   },
   "id": "2ad2929a1537d742"
  }
 ],
 "metadata": {
  "kernelspec": {
   "display_name": "Python 3",
   "language": "python",
   "name": "python3"
  },
  "language_info": {
   "codemirror_mode": {
    "name": "ipython",
    "version": 2
   },
   "file_extension": ".py",
   "mimetype": "text/x-python",
   "name": "python",
   "nbconvert_exporter": "python",
   "pygments_lexer": "ipython2",
   "version": "2.7.6"
  }
 },
 "nbformat": 4,
 "nbformat_minor": 5
}
