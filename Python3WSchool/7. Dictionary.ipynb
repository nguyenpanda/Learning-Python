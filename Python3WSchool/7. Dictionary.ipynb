{
 "cells": [
  {
   "cell_type": "code",
   "execution_count": null,
   "id": "initial_id",
   "metadata": {
    "collapsed": true,
    "ExecuteTime": {
     "end_time": "2023-11-02T06:43:37.418643Z",
     "start_time": "2023-11-02T06:43:37.218549Z"
    }
   },
   "outputs": [],
   "source": []
  },
  {
   "cell_type": "markdown",
   "source": [
    "# Dictionary\n",
    "- https://www.w3schools.com/python/python_dictionaries_methods.asp\n",
    "- Duplicates Not Allowed\n",
    "\n",
    "### Ordered or Unordered?\n",
    "- As of Python version 3.7, dictionaries are ordered. In Python 3.6 and earlier, dictionaries are unordered."
   ],
   "metadata": {
    "collapsed": false
   },
   "id": "8c213e0cae011bd5"
  },
  {
   "cell_type": "code",
   "execution_count": null,
   "outputs": [],
   "source": [],
   "metadata": {
    "collapsed": false,
    "ExecuteTime": {
     "end_time": "2023-11-02T06:43:37.419189Z",
     "start_time": "2023-11-02T06:43:37.230765Z"
    }
   },
   "id": "e86978a8ead4d810"
  },
  {
   "cell_type": "markdown",
   "source": [
    "# Dictionary method\n",
    "<table style=\"width:100%\">\n",
    "  <tr>\n",
    "    <th>Method</th>\n",
    "    <th>Description</th>\n",
    "  </tr>\n",
    "  \n",
    "  <tr>\n",
    "    <td>get()</td>\n",
    "    <td>Returns the value of the SPECCIFIED KEY</td>\n",
    "  </tr>\n",
    "  \n",
    "  <tr>\n",
    "    <td>fromkeys(iter, opt_iter)</td>\n",
    "    <td>Returns a NEW DICTIONARY with the specified keys and value</td>\n",
    "  </tr>\n",
    "  \n",
    "  <tr>\n",
    "    <td>items()</td>\n",
    "    <td>Return each item in a dictionary, as tuples in a list.</td>\n",
    "  </tr>\n",
    "  \n",
    "  <tr>\n",
    "    <td>values()</td>\n",
    "    <td>Returns a list of all the values in the dictionary</td>\n",
    "  </tr>\n",
    "  \n",
    "  <tr>\n",
    "    <td>keys()</td>\n",
    "    <td>Returns a list containing the dictionary's KEYS</td>\n",
    "  </tr>\n",
    "  \n",
    "  <tr>\n",
    "    <td>setdefault(key, value)</td>\n",
    "    <td>Returns the value of the specified key. If the key does not exist: insert the key, with the specified value</td>\n",
    "  </tr>\n",
    "  \n",
    "  <tr>\n",
    "    <td>pop(key)</td>\n",
    "    <td>Removes the element with the SPECCIFIED KEY</td>\n",
    "  </tr>\n",
    "  \n",
    "  <tr>\n",
    "    <td>popitem()</td>\n",
    "    <td>Removes the LAST inserted key-value pair</td>\n",
    "  </tr>\n",
    "  \n",
    "  <tr>\n",
    "    <td>update(set)</td>\n",
    "    <td>Updates the dictionary with the specified key-value pairs</td>\n",
    "  </tr>\n",
    "  \n",
    "  <tr>\n",
    "    <td>clear()</td>\n",
    "    <td>Removes all the elements from the dictionary</td>\n",
    "  </tr>\n",
    "  \n",
    "  <tr>\n",
    "    <td>copy()</td>\n",
    "    <td>Returns a copy of the dictionary</td>\n",
    "  </tr>\n",
    "</table>"
   ],
   "metadata": {
    "collapsed": false
   },
   "id": "fd21a38627b7e5ab"
  },
  {
   "cell_type": "code",
   "execution_count": 1,
   "outputs": [
    {
     "name": "stdout",
     "output_type": "stream",
     "text": [
      "{'brand': 'Ford', 'model': 'Mustang', 'year': 1964}\n",
      "---------------------\n",
      "- thisdict[\"model\"]: Mustang\n",
      "- thisdict.get(\"model\"): Mustang\n",
      "- thisdict.keys(): dict_keys(['brand', 'model', 'year'])\n",
      "brand, model, year, \n",
      "- thisdict.values(): dict_values(['Ford', 'Mustang', 1964])\n",
      "Ford, Mustang, 1964, \n",
      "- thisdict.items(): dict_items([('brand', 'Ford'), ('model', 'Mustang'), ('year', 1964)])\n",
      "brand Ford, model Mustang, year 1964, \n",
      "- Yes, 'model' is one of the keys in the thisdict dictionary\n"
     ]
    }
   ],
   "source": [
    "thisdict = {\n",
    "  \"brand\": \"Ford\",\n",
    "  \"model\": \"Mustang\",\n",
    "  \"year\": 1964\n",
    "}\n",
    "print(thisdict)\n",
    "print('---------------------')\n",
    "\n",
    "x = thisdict[\"model\"]\n",
    "print(f'- thisdict[\"model\"]: {x}')\n",
    "x = thisdict.get(\"model\")\n",
    "print(f'- thisdict.get(\"model\"): {x}')\n",
    "\n",
    "x = thisdict.keys()\n",
    "print(f'- thisdict.keys(): {x}')\n",
    "for x in thisdict.keys():\n",
    "  print(x, end=', ')\n",
    "  \n",
    "x = thisdict.values()\n",
    "print(f'\\n- thisdict.values(): {x}')\n",
    "for x in thisdict.values():\n",
    "  print(x, end=', ')\n",
    "\n",
    "x = thisdict.items()\n",
    "print(f'\\n- thisdict.items(): {x}')\n",
    "for a, b in x:\n",
    "    print(a, b, end=', ')\n",
    "\n",
    "# Check if Key Exists\n",
    "if 'model' in thisdict:\n",
    "    print('\\n- Yes, \\'model\\' is one of the keys in the thisdict dictionary')"
   ],
   "metadata": {
    "collapsed": false,
    "ExecuteTime": {
     "end_time": "2023-11-02T06:43:37.420180Z",
     "start_time": "2023-11-02T06:43:37.244189Z"
    }
   },
   "id": "364afe3305eea273"
  },
  {
   "cell_type": "code",
   "execution_count": 1,
   "outputs": [],
   "source": [],
   "metadata": {
    "collapsed": false,
    "ExecuteTime": {
     "end_time": "2023-11-02T06:43:37.421120Z",
     "start_time": "2023-11-02T06:43:37.270288Z"
    }
   },
   "id": "2cfb94afeb318799"
  },
  {
   "cell_type": "code",
   "execution_count": 2,
   "outputs": [
    {
     "name": "stdout",
     "output_type": "stream",
     "text": [
      "Tobias\n"
     ]
    }
   ],
   "source": [
    "child1 = {\n",
    "  \"name\" : \"Emil\",\n",
    "  \"year\" : 2004\n",
    "}\n",
    "child2 = {\n",
    "  \"name\" : \"Tobias\",\n",
    "  \"year\" : 2007\n",
    "}\n",
    "child3 = {\n",
    "  \"name\" : \"Linus\",\n",
    "  \"year\" : 2011\n",
    "}\n",
    "\n",
    "myfamily = {\n",
    "  \"child1\" : child1,\n",
    "  \"child2\" : child2,\n",
    "  \"child3\" : child3\n",
    "}\n",
    "\n",
    "print(myfamily[\"child2\"][\"name\"])"
   ],
   "metadata": {
    "collapsed": false,
    "ExecuteTime": {
     "end_time": "2023-11-02T06:43:37.421984Z",
     "start_time": "2023-11-02T06:43:37.287619Z"
    }
   },
   "id": "ed284103012c7cb7"
  },
  {
   "cell_type": "code",
   "execution_count": 2,
   "outputs": [],
   "source": [],
   "metadata": {
    "collapsed": false,
    "ExecuteTime": {
     "end_time": "2023-11-02T06:43:37.422655Z",
     "start_time": "2023-11-02T06:43:37.299850Z"
    }
   },
   "id": "8e94d8247beb3dbe"
  }
 ],
 "metadata": {
  "kernelspec": {
   "display_name": "Python 3",
   "language": "python",
   "name": "python3"
  },
  "language_info": {
   "codemirror_mode": {
    "name": "ipython",
    "version": 2
   },
   "file_extension": ".py",
   "mimetype": "text/x-python",
   "name": "python",
   "nbconvert_exporter": "python",
   "pygments_lexer": "ipython2",
   "version": "2.7.6"
  }
 },
 "nbformat": 4,
 "nbformat_minor": 5
}
