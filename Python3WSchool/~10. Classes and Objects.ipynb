{
 "cells": [
  {
   "cell_type": "markdown",
   "source": [
    "# Class\n",
    "A Class is like an object constructor, or a \"blueprint\" for creating objects.\n",
    "\n",
    "# The __init__() Function\n",
    "- Note: The __init__() function is called automatically every time the class is being used to create a new object.\n",
    "- \n",
    "- All classes have a function called __init__(), which is always executed when the class is being initiated.\n",
    "\n",
    "- Use the __init__() function to assign values to object properties, or other operations that are necessary to do when the object is being created\n",
    "\n",
    "# The __str__() Function\n",
    "- The __str__() function controls what should be returned when the class object is represented as a string.\n",
    "\n",
    "- If the __str__() function is not set, the string representation of the object is returned\n",
    "\n",
    "# The self Parameter\n",
    "- The self parameter is a reference to the current instance of the class, and is used to access variables that belongs to the class.\n",
    "\n",
    "- It does not have to be named self , you can call it whatever you like, but it has to be the first parameter of any function in the class"
   ],
   "metadata": {
    "collapsed": false
   },
   "id": "4b8ca636b54a295d"
  },
  {
   "cell_type": "code",
   "execution_count": null,
   "id": "initial_id",
   "metadata": {
    "collapsed": true,
    "ExecuteTime": {
     "end_time": "2023-11-02T06:45:11.213892Z",
     "start_time": "2023-11-02T06:45:11.205208Z"
    }
   },
   "outputs": [],
   "source": []
  },
  {
   "cell_type": "markdown",
   "source": [],
   "metadata": {
    "collapsed": false
   },
   "id": "b1cc3fde9400e6ad"
  },
  {
   "cell_type": "code",
   "execution_count": null,
   "outputs": [],
   "source": [],
   "metadata": {
    "collapsed": false,
    "ExecuteTime": {
     "end_time": "2023-11-02T06:45:11.255298Z",
     "start_time": "2023-11-02T06:45:11.213753Z"
    }
   },
   "id": "552e2751d3f800b8"
  }
 ],
 "metadata": {
  "kernelspec": {
   "display_name": "Python 3",
   "language": "python",
   "name": "python3"
  },
  "language_info": {
   "codemirror_mode": {
    "name": "ipython",
    "version": 2
   },
   "file_extension": ".py",
   "mimetype": "text/x-python",
   "name": "python",
   "nbconvert_exporter": "python",
   "pygments_lexer": "ipython2",
   "version": "2.7.6"
  }
 },
 "nbformat": 4,
 "nbformat_minor": 5
}
