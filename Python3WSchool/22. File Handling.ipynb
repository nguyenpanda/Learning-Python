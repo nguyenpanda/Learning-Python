{
 "cells": [
  {
   "cell_type": "markdown",
   "source": [
    "# File Handling\n",
    "<table style=\"width:100%\">\n",
    "  <tr>\n",
    "    <th>Mode</th>\n",
    "    <th>Description</th>\n",
    "    <th>Meaning</th>\n",
    "  </tr>\n",
    "  <tr>\n",
    "    <td>\"r\"</td>\n",
    "    <td>Read</td>\n",
    "    <td>Opens a file for reading, error if the file does not exist</td>\n",
    "  </tr>\n",
    "  <tr>\n",
    "    <td>\"a\"</td>\n",
    "    <td>Append</td>\n",
    "    <td>Opens a file for appending, creates the file if it does not exist</td>\n",
    "  </tr>\n",
    "  <tr>\n",
    "    <td>\"w\"</td>\n",
    "    <td>Write</td>\n",
    "    <td>Opens a file for overwriting, creates the file if it does not exist</td>\n",
    "  </tr>\n",
    "  <tr>\n",
    "    <td>\"x\"</td>\n",
    "    <td>Create</td>\n",
    "    <td>Creates the specified file, returns an error if the file exists</td>\n",
    "  </tr>\n",
    "</table>\n",
    "\n",
    "### In addition you can specify if the file should be handled as binary or text mode\n",
    "<table style=\"width:100%\">\n",
    "  <tr>\n",
    "    <td>\"t\"</td>\n",
    "    <td>Text</td>\n",
    "    <td>Default value. Text mode</td>\n",
    "  </tr>\n",
    "  <tr>\n",
    "    <td>\"b\"</td>\n",
    "    <td>Binary</td>\n",
    "    <td>Binary mode (e.g. images)</td>\n",
    "  </tr>\n",
    "</table>\n"
   ],
   "metadata": {
    "collapsed": false
   },
   "id": "899d191ba4480dca"
  },
  {
   "cell_type": "code",
   "execution_count": 15,
   "id": "initial_id",
   "metadata": {
    "collapsed": true,
    "ExecuteTime": {
     "end_time": "2023-11-02T08:13:38.531690Z",
     "start_time": "2023-11-02T08:13:38.527765Z"
    }
   },
   "outputs": [],
   "source": [
    "# Because \"r\" for read, and \"t\" for text are the default values, you do not need to specify them.\n",
    "f = open(\"22. demofile.txt\", \"rt\")\n",
    "f.close()"
   ]
  },
  {
   "cell_type": "markdown",
   "source": [
    "# Read File"
   ],
   "metadata": {
    "collapsed": false
   },
   "id": "9726ed81e5c78fc7"
  },
  {
   "cell_type": "code",
   "execution_count": 16,
   "outputs": [
    {
     "name": "stdout",
     "output_type": "stream",
     "text": [
      "Hello! Welcome to demofile.txt\n",
      "This file is for testing purposes.\n",
      "Good Luck!\n",
      "---\n",
      "Hello\n"
     ]
    }
   ],
   "source": [
    "f = open(\"22. demofile.txt\", \"r\")\n",
    "print(f.read())\n",
    "\n",
    "# By default the read() method returns the whole text, but you can also specify how many characters you want to return\n",
    "print('---')\n",
    "f = open(\"22. demofile.txt\", \"r\")\n",
    "print(f.read(5))"
   ],
   "metadata": {
    "collapsed": false,
    "ExecuteTime": {
     "end_time": "2023-11-02T08:13:39.415912Z",
     "start_time": "2023-11-02T08:13:39.408444Z"
    }
   },
   "id": "432f9c6e037ef597"
  },
  {
   "cell_type": "code",
   "execution_count": 17,
   "outputs": [
    {
     "name": "stdout",
     "output_type": "stream",
     "text": [
      "Hello! Welcome to demofile.txt\n",
      "\n",
      "This file is for testing purposes.\n"
     ]
    }
   ],
   "source": [
    "f = open(\"22. demofile.txt\", \"r\")\n",
    "print(f.readline())\n",
    "print(f.readline())"
   ],
   "metadata": {
    "collapsed": false,
    "ExecuteTime": {
     "end_time": "2023-11-02T08:13:39.891051Z",
     "start_time": "2023-11-02T08:13:39.878720Z"
    }
   },
   "id": "6c33325696d309d5"
  },
  {
   "cell_type": "code",
   "execution_count": 18,
   "outputs": [
    {
     "name": "stdout",
     "output_type": "stream",
     "text": [
      "Hello! Welcome to demofile.txt\n",
      "\n",
      "This file is for testing purposes.\n",
      "\n",
      "Good Luck!\n"
     ]
    }
   ],
   "source": [
    "f = open(\"22. demofile.txt\", \"r\")\n",
    "for x in f:\n",
    "  print(x)"
   ],
   "metadata": {
    "collapsed": false,
    "ExecuteTime": {
     "end_time": "2023-11-02T08:13:40.283846Z",
     "start_time": "2023-11-02T08:13:40.273254Z"
    }
   },
   "id": "70cb54863399e554"
  },
  {
   "cell_type": "code",
   "execution_count": 19,
   "outputs": [],
   "source": [
    "f.close()"
   ],
   "metadata": {
    "collapsed": false,
    "ExecuteTime": {
     "end_time": "2023-11-02T08:13:40.665Z",
     "start_time": "2023-11-02T08:13:40.658336Z"
    }
   },
   "id": "bf205d07c38e3d51"
  },
  {
   "cell_type": "markdown",
   "source": [
    "# Write/Creat Files"
   ],
   "metadata": {
    "collapsed": false
   },
   "id": "27f52bb3fb182634"
  },
  {
   "cell_type": "code",
   "execution_count": 22,
   "outputs": [
    {
     "name": "stdout",
     "output_type": "stream",
     "text": [
      "Now the file has more content!Now the file has more content!Now the file has more content!\n"
     ]
    }
   ],
   "source": [
    "f = open(\"22. demofile2.txt\", \"a\")\n",
    "f.write(\"Now the file has more content!\")\n",
    "f.close()\n",
    "\n",
    "#open and read the file after the appending:\n",
    "f = open(\"22. demofile2.txt\", \"r\")\n",
    "print(f.read())"
   ],
   "metadata": {
    "collapsed": false,
    "ExecuteTime": {
     "end_time": "2023-11-02T08:13:59.267750Z",
     "start_time": "2023-11-02T08:13:59.262062Z"
    }
   },
   "id": "459bb82bfc018b25"
  },
  {
   "cell_type": "markdown",
   "source": [
    "# Delete File"
   ],
   "metadata": {
    "collapsed": false
   },
   "id": "98056b73ef71103d"
  },
  {
   "cell_type": "code",
   "execution_count": 24,
   "outputs": [],
   "source": [
    "import os\n",
    "# os.remove(\"demofile.txt\")"
   ],
   "metadata": {
    "collapsed": false,
    "ExecuteTime": {
     "end_time": "2023-11-02T08:15:49.465474Z",
     "start_time": "2023-11-02T08:15:49.457509Z"
    }
   },
   "id": "f83e3d928fcfb2ef"
  },
  {
   "cell_type": "code",
   "execution_count": 25,
   "outputs": [],
   "source": [
    "# if os.path.exists(\"demofile.txt\"):\n",
    "#   os.remove(\"demofile.txt\")\n",
    "# else:\n",
    "#   print(\"The file does not exist\")"
   ],
   "metadata": {
    "collapsed": false,
    "ExecuteTime": {
     "end_time": "2023-11-02T08:15:49.839864Z",
     "start_time": "2023-11-02T08:15:49.830999Z"
    }
   },
   "id": "5445bcdd350fc1cb"
  },
  {
   "cell_type": "code",
   "execution_count": 26,
   "outputs": [
    {
     "ename": "FileNotFoundError",
     "evalue": "[Errno 2] No such file or directory: 'myfolder'",
     "output_type": "error",
     "traceback": [
      "\u001B[0;31m---------------------------------------------------------------------------\u001B[0m",
      "\u001B[0;31mFileNotFoundError\u001B[0m                         Traceback (most recent call last)",
      "Cell \u001B[0;32mIn[26], line 1\u001B[0m\n\u001B[0;32m----> 1\u001B[0m \u001B[43mos\u001B[49m\u001B[38;5;241;43m.\u001B[39;49m\u001B[43mrmdir\u001B[49m\u001B[43m(\u001B[49m\u001B[38;5;124;43m\"\u001B[39;49m\u001B[38;5;124;43mmyfolder\u001B[39;49m\u001B[38;5;124;43m\"\u001B[39;49m\u001B[43m)\u001B[49m\n",
      "\u001B[0;31mFileNotFoundError\u001B[0m: [Errno 2] No such file or directory: 'myfolder'"
     ]
    }
   ],
   "source": [
    "os.rmdir(\"myfolder\")"
   ],
   "metadata": {
    "collapsed": false,
    "ExecuteTime": {
     "end_time": "2023-11-02T08:15:50.219426Z",
     "start_time": "2023-11-02T08:15:50.190568Z"
    }
   },
   "id": "e86dc40d7221cf62"
  },
  {
   "cell_type": "code",
   "execution_count": 29,
   "outputs": [
    {
     "name": "stdout",
     "output_type": "stream",
     "text": [
      "Hello World\n"
     ]
    }
   ],
   "source": [
    "import camelcase\n",
    "\n",
    "c = camelcase.CamelCase()\n",
    "\n",
    "txt = \"hello world\"\n",
    "\n",
    "print(c.hump(txt))"
   ],
   "metadata": {
    "collapsed": false,
    "ExecuteTime": {
     "end_time": "2023-11-02T08:20:31.997760Z",
     "start_time": "2023-11-02T08:20:31.988303Z"
    }
   },
   "id": "ae017842da125d1f"
  },
  {
   "cell_type": "code",
   "execution_count": null,
   "outputs": [],
   "source": [],
   "metadata": {
    "collapsed": false
   },
   "id": "65addf2ca04ad532"
  }
 ],
 "metadata": {
  "kernelspec": {
   "display_name": "Python 3",
   "language": "python",
   "name": "python3"
  },
  "language_info": {
   "codemirror_mode": {
    "name": "ipython",
    "version": 2
   },
   "file_extension": ".py",
   "mimetype": "text/x-python",
   "name": "python",
   "nbconvert_exporter": "python",
   "pygments_lexer": "ipython2",
   "version": "2.7.6"
  }
 },
 "nbformat": 4,
 "nbformat_minor": 5
}
