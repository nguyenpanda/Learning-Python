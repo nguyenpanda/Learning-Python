{
 "cells": [
  {
   "cell_type": "markdown",
   "source": [
    "# Datatime Modules"
   ],
   "metadata": {
    "collapsed": false
   },
   "id": "c5fc7da159e9a4ec"
  },
  {
   "cell_type": "code",
   "execution_count": 1,
   "id": "initial_id",
   "metadata": {
    "collapsed": true,
    "ExecuteTime": {
     "end_time": "2023-11-02T06:44:57.165334Z",
     "start_time": "2023-11-02T06:44:57.106489Z"
    }
   },
   "outputs": [],
   "source": [
    "import datetime"
   ]
  },
  {
   "cell_type": "markdown",
   "source": [
    "### Python Dates\n",
    "- A date in Python is not a data type of its own, but we can import a module named datetime to work with dates as date objects."
   ],
   "metadata": {
    "collapsed": false
   },
   "id": "fe12f926f5dbb3f2"
  },
  {
   "cell_type": "code",
   "execution_count": 2,
   "outputs": [
    {
     "name": "stdout",
     "output_type": "stream",
     "text": [
      "2023-11-02 13:44:57.118970\n"
     ]
    }
   ],
   "source": [
    "x = datetime.datetime.now()\n",
    "print(x)"
   ],
   "metadata": {
    "collapsed": false,
    "ExecuteTime": {
     "end_time": "2023-11-02T06:44:57.166445Z",
     "start_time": "2023-11-02T06:44:57.123114Z"
    }
   },
   "id": "da72df674cfaab6b"
  },
  {
   "cell_type": "markdown",
   "source": [
    "### Date Output\n",
    "- When we execute the code from the example above the result will be:\n",
    "\n",
    "**2023-11-01 23:14:09.026388**\n",
    "- The date contains year, month, day, hour, minute, second, and microsecond.\n",
    "\n",
    "- The datetime module has many methods to return information about the date object."
   ],
   "metadata": {
    "collapsed": false
   },
   "id": "9cca7cffaa80344b"
  },
  {
   "cell_type": "code",
   "execution_count": 3,
   "outputs": [
    {
     "name": "stdout",
     "output_type": "stream",
     "text": [
      "2023\n",
      "Thursday\n"
     ]
    }
   ],
   "source": [
    "x = datetime.datetime.now()\n",
    "\n",
    "print(x.year)\n",
    "print(x.strftime(\"%A\"))"
   ],
   "metadata": {
    "collapsed": false,
    "ExecuteTime": {
     "end_time": "2023-11-02T06:44:57.167554Z",
     "start_time": "2023-11-02T06:44:57.134471Z"
    }
   },
   "id": "654caac66a94eb74"
  },
  {
   "cell_type": "markdown",
   "source": [
    "### Creating Date Objects"
   ],
   "metadata": {
    "collapsed": false
   },
   "id": "604059c96f3733aa"
  },
  {
   "cell_type": "code",
   "execution_count": 4,
   "outputs": [
    {
     "name": "stdout",
     "output_type": "stream",
     "text": [
      "2020-05-17 00:00:00\n"
     ]
    }
   ],
   "source": [
    "print(datetime.datetime(2020, 5, 17))"
   ],
   "metadata": {
    "collapsed": false,
    "ExecuteTime": {
     "end_time": "2023-11-02T06:44:57.168822Z",
     "start_time": "2023-11-02T06:44:57.146893Z"
    }
   },
   "id": "1dd89404db2724c"
  },
  {
   "cell_type": "markdown",
   "source": [
    "### The strftime() Method\n",
    "- The datetime object has a method for formatting date objects into readable strings.\n",
    "\n",
    "- The method is called strftime(), and takes one parameter, format, to specify the format of the returned string:"
   ],
   "metadata": {
    "collapsed": false
   },
   "id": "ecad00508fb7889c"
  },
  {
   "cell_type": "code",
   "execution_count": 5,
   "outputs": [
    {
     "name": "stdout",
     "output_type": "stream",
     "text": [
      "June\n"
     ]
    }
   ],
   "source": [
    "x = datetime.datetime(2018, 6, 1)\n",
    "print(x.strftime(\"%B\"))"
   ],
   "metadata": {
    "collapsed": false,
    "ExecuteTime": {
     "end_time": "2023-11-02T06:44:57.189659Z",
     "start_time": "2023-11-02T06:44:57.161385Z"
    }
   },
   "id": "4048803237b69f2d"
  },
  {
   "cell_type": "markdown",
   "source": [
    "<table style=\"width:100%\">\n",
    "  <tr>\n",
    "    <th>Directive</th>\n",
    "    <th>Description</th>\n",
    "    <th>Example</th>\n",
    "  </tr>\n",
    "  <tr>\n",
    "    <td>%a</td>\n",
    "    <td>Weekday, short version</td>\n",
    "    <td>Wed</td>\n",
    "  </tr>\n",
    "  <tr>\n",
    "    <td>%A</td>\n",
    "    <td>Weekday, full version</td>\n",
    "    <td>Wednesday</td>\n",
    "  </tr>\n",
    "  <tr>\n",
    "    <td>%w</td>\n",
    "    <td>Weekday as a number 0-6, 0 is Sunday</td>\n",
    "    <td>3</td>\n",
    "  </tr>\n",
    "  <tr>\n",
    "    <td>%d</td>\n",
    "    <td>Day of month 01-31</td>\n",
    "    <td>31</td>\n",
    "  </tr>\n",
    "  <tr>\n",
    "    <td>%b</td>\n",
    "    <td>Month name, short version</td>\n",
    "    <td>Dec</td>\n",
    "  </tr>\n",
    "  <tr>\n",
    "    <td>%B</td>\n",
    "    <td>Month name, full version</td>\n",
    "    <td>December</td>\n",
    "  </tr>\n",
    "  <tr>\n",
    "    <td>%m</td>\n",
    "    <td>Month as a number 01-12</td>\n",
    "    <td>12</td>\n",
    "  </tr>\n",
    "  <tr>\n",
    "    <td>%y</td>\n",
    "    <td>Year, short version, without century</td>\n",
    "    <td>18</td>\n",
    "  </tr>\n",
    "  <tr>\n",
    "    <td>%Y</td>\n",
    "    <td>Year, full version</td>\n",
    "    <td>2018</td>\n",
    "  </tr>\n",
    "  <tr>\n",
    "    <td>%H</td>\n",
    "    <td>Hour 00-23</td>\n",
    "    <td>17</td>\n",
    "  </tr>\n",
    "  <tr>\n",
    "    <td>%I</td>\n",
    "    <td>Hour 00-12</td>\n",
    "    <td>05</td>\n",
    "  </tr>\n",
    "  <tr>\n",
    "    <td>%p</td>\n",
    "    <td>AM/PM</td>\n",
    "    <td>PM</td>\n",
    "  </tr>\n",
    "  <tr>\n",
    "    <td>%M</td>\n",
    "    <td>Minute 00-59</td>\n",
    "    <td>41</td>\n",
    "  </tr>\n",
    "  <tr>\n",
    "    <td>%S</td>\n",
    "    <td>Second 00-59</td>\n",
    "    <td>08</td>\n",
    "  </tr>\n",
    "  <tr>\n",
    "    <td>%f</td>\n",
    "    <td>Microsecond 000000-999999</td>\n",
    "    <td>548513</td>\n",
    "  </tr>\n",
    "  <tr>\n",
    "    <td>%z</td>\n",
    "    <td>UTC offset</td>\n",
    "    <td>+0100</td>\n",
    "  </tr>\n",
    "  <tr>\n",
    "    <td>%Z</td>\n",
    "    <td>Timezone</td>\n",
    "    <td>CST</td>\n",
    "  </tr>\n",
    "  <tr>\n",
    "    <td>%j</td>\n",
    "    <td>Day number of year 001-366</td>\n",
    "    <td>365</td>\n",
    "  </tr>\n",
    "  <tr>\n",
    "    <td>%U</td>\n",
    "    <td>Week number of year, Sunday as the first day of week, 00-53</td>\n",
    "    <td>52</td>\n",
    "  </tr>\n",
    "  <tr>\n",
    "    <td>%W</td>\n",
    "    <td>Week number of year, Monday as the first day of week, 00-53</td>\n",
    "    <td>52</td>\n",
    "  </tr>\n",
    "  <tr>\n",
    "    <td>%c</td>\n",
    "    <td>Local version of date and time</td>\n",
    "    <td>Mon Dec 31 17:41:00 2018</td>\n",
    "  </tr>\n",
    "  <tr>\n",
    "    <td>%C</td>\n",
    "    <td>Century</td>\n",
    "    <td>20</td>\n",
    "  </tr>\n",
    "  <tr>\n",
    "    <td>%x</td>\n",
    "    <td>Local version of date</td>\n",
    "    <td>12/31/18</td>\n",
    "  </tr>\n",
    "  <tr>\n",
    "    <td>%X</td>\n",
    "    <td>Local version of time</td>\n",
    "    <td>17:41:00</td>\n",
    "  </tr>\n",
    "  <tr>\n",
    "    <td>%%</td>\n",
    "    <td>A % character</td>\n",
    "    <td>%</td>\n",
    "  </tr>\n",
    "  <tr>\n",
    "    <td>%G</td>\n",
    "    <td>ISO 8601 year</td>\n",
    "    <td>2018</td>\n",
    "  </tr>\n",
    "  <tr>\n",
    "    <td>%u</td>\n",
    "    <td>ISO 8601 weekday (1-7)</td>\n",
    "    <td>1</td>\n",
    "  </tr>\n",
    "  <tr>\n",
    "    <td>%V</td>\n",
    "    <td>ISO 8601 weeknumber (01-53)</td>\n",
    "    <td>01</td>\n",
    "  </tr>\n",
    "</table>\n"
   ],
   "metadata": {
    "collapsed": false
   },
   "id": "2a204da5eab77231"
  },
  {
   "cell_type": "code",
   "execution_count": 6,
   "outputs": [
    {
     "name": "stdout",
     "output_type": "stream",
     "text": [
      "3421.261551121\n"
     ]
    }
   ],
   "source": [
    "import time\n",
    "\n",
    "print(time.monotonic())"
   ],
   "metadata": {
    "collapsed": false,
    "ExecuteTime": {
     "end_time": "2023-11-02T06:44:57.227704Z",
     "start_time": "2023-11-02T06:44:57.170192Z"
    }
   },
   "id": "575d09f4eaafb18"
  },
  {
   "cell_type": "code",
   "execution_count": 6,
   "outputs": [],
   "source": [],
   "metadata": {
    "collapsed": false,
    "ExecuteTime": {
     "end_time": "2023-11-02T06:44:57.358314Z",
     "start_time": "2023-11-02T06:44:57.180412Z"
    }
   },
   "id": "583ed3068f93a978"
  }
 ],
 "metadata": {
  "kernelspec": {
   "display_name": "Python 3",
   "language": "python",
   "name": "python3"
  },
  "language_info": {
   "codemirror_mode": {
    "name": "ipython",
    "version": 2
   },
   "file_extension": ".py",
   "mimetype": "text/x-python",
   "name": "python",
   "nbconvert_exporter": "python",
   "pygments_lexer": "ipython2",
   "version": "2.7.6"
  }
 },
 "nbformat": 4,
 "nbformat_minor": 5
}
