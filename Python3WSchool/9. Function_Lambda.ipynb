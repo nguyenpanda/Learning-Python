{
 "cells": [
  {
   "cell_type": "markdown",
   "source": [
    "# Function\n",
    "\n",
    "- Arguments are often shortened to args in Python documentations.\n",
    "\n",
    "### Parameters or Arguments?\n",
    "*From a function's perspective:\n",
    "\n",
    "- A parameter is the variable listed inside the parentheses in the function definition.\n",
    "\n",
    "- An argument is the value that is sent to the function when it is called.\n",
    "\n",
    "def(a, b):\n",
    "  return a + b\n",
    "  \n",
    "**a** and **b** in **def(a, b)** is called parameters\n",
    "**1** an **2** in **totalSum = sum(1, 2)** is called arguments"
   ],
   "metadata": {
    "collapsed": false
   },
   "id": "5ee078a5367e44cc"
  },
  {
   "cell_type": "code",
   "execution_count": 7,
   "outputs": [],
   "source": [],
   "metadata": {
    "collapsed": false,
    "ExecuteTime": {
     "end_time": "2023-11-02T06:45:08.963880Z",
     "start_time": "2023-11-02T06:45:08.839048Z"
    }
   },
   "id": "317c330c5f9544ba"
  },
  {
   "cell_type": "markdown",
   "source": [
    "### Arbitrary Arguments, *args\n",
    "*args in function is a tuple"
   ],
   "metadata": {
    "collapsed": false
   },
   "id": "c93c10be57e6d8bc"
  },
  {
   "cell_type": "code",
   "execution_count": 8,
   "id": "initial_id",
   "metadata": {
    "collapsed": true,
    "ExecuteTime": {
     "end_time": "2023-11-02T06:45:09.030816Z",
     "start_time": "2023-11-02T06:45:08.851274Z"
    }
   },
   "outputs": [
    {
     "name": "stdout",
     "output_type": "stream",
     "text": [
      "<class 'tuple'>\n",
      "(1, 2, 3)\n"
     ]
    }
   ],
   "source": [
    "def test1(*args):\n",
    "  print(type(args))\n",
    "  print(args)\n",
    "  \n",
    "test1(1, 2, 3)"
   ]
  },
  {
   "cell_type": "code",
   "execution_count": 8,
   "outputs": [],
   "source": [],
   "metadata": {
    "collapsed": false,
    "ExecuteTime": {
     "end_time": "2023-11-02T06:45:09.052942Z",
     "start_time": "2023-11-02T06:45:08.858983Z"
    }
   },
   "id": "7496a81ef6730d70"
  },
  {
   "cell_type": "markdown",
   "source": [
    "### Keyword Arguments"
   ],
   "metadata": {
    "collapsed": false
   },
   "id": "4409836289ab03ea"
  },
  {
   "cell_type": "code",
   "execution_count": 9,
   "outputs": [
    {
     "name": "stdout",
     "output_type": "stream",
     "text": [
      "The youngest child is Linus\n"
     ]
    }
   ],
   "source": [
    "def my_function(child3, child2, child1):\n",
    "  print(\"The youngest child is \" + child3)\n",
    "\n",
    "my_function(child1 = \"Emil\", child2 = \"Tobias\", child3 = \"Linus\")"
   ],
   "metadata": {
    "collapsed": false,
    "ExecuteTime": {
     "end_time": "2023-11-02T06:45:09.084219Z",
     "start_time": "2023-11-02T06:45:08.867881Z"
    }
   },
   "id": "48651d4387d5476c"
  },
  {
   "cell_type": "markdown",
   "source": [
    "### Arbitrary Keyword Arguments, **kwargs"
   ],
   "metadata": {
    "collapsed": false
   },
   "id": "4f11a11a7ab15bf9"
  },
  {
   "cell_type": "code",
   "execution_count": 10,
   "outputs": [
    {
     "name": "stdout",
     "output_type": "stream",
     "text": [
      "His last name is Refsnes\n"
     ]
    }
   ],
   "source": [
    "def my_function(**kid):\n",
    "  print(\"His last name is \" + kid[\"lname\"])\n",
    "\n",
    "my_function(fname = \"Tobias\", lname = \"Refsnes\")"
   ],
   "metadata": {
    "collapsed": false,
    "ExecuteTime": {
     "end_time": "2023-11-02T06:45:09.096709Z",
     "start_time": "2023-11-02T06:45:08.879890Z"
    }
   },
   "id": "a7521e7de96de6a3"
  },
  {
   "cell_type": "markdown",
   "source": [
    "# Python Lambda (anonymous function)\n",
    "- A lambda function can take any number of arguments, but can only have one expression.\n",
    "- Use lambda functions when an anonymous function is required for a short period of time."
   ],
   "metadata": {
    "collapsed": false
   },
   "id": "72b027ac4302edb9"
  },
  {
   "cell_type": "code",
   "execution_count": 11,
   "outputs": [
    {
     "name": "stdout",
     "output_type": "stream",
     "text": [
      "13\n",
      "22\n"
     ]
    }
   ],
   "source": [
    "g = lambda a, b, c : a + b + c\n",
    "print(g(5, 6, 2))\n",
    "\n",
    "def myfunc(n):\n",
    "  return lambda a : a * n\n",
    "\n",
    "mydoubler = myfunc(2)\n",
    "\n",
    "print(mydoubler(11))"
   ],
   "metadata": {
    "collapsed": false,
    "ExecuteTime": {
     "end_time": "2023-11-02T06:45:09.097256Z",
     "start_time": "2023-11-02T06:45:08.892263Z"
    }
   },
   "id": "2ed6a4efc4f67f5a"
  },
  {
   "cell_type": "markdown",
   "source": [
    "### Lambda function is usually used in **map()**, **filter()**, **reduce()**"
   ],
   "metadata": {
    "collapsed": false
   },
   "id": "d6b8a75ed31f1ef6"
  },
  {
   "cell_type": "code",
   "execution_count": 12,
   "outputs": [
    {
     "name": "stdout",
     "output_type": "stream",
     "text": [
      "Squared number: [1, 4, 9, 16, 25]\n",
      "Even number: [2, 4]\n"
     ]
    }
   ],
   "source": [
    "numbers = [1, 2, 3, 4, 5]\n",
    "squared_numbers = list(map(lambda x: x ** 2, numbers))\n",
    "print(f'Squared number: {squared_numbers}')\n",
    "\n",
    "numbers = [1, 2, 3, 4, 5]\n",
    "even_numbers = list(filter(lambda x: x % 2 == 0, numbers))\n",
    "print(f'Even number: {even_numbers}')"
   ],
   "metadata": {
    "collapsed": false,
    "ExecuteTime": {
     "end_time": "2023-11-02T06:45:09.097860Z",
     "start_time": "2023-11-02T06:45:08.908385Z"
    }
   },
   "id": "8c9a67963beaf952"
  },
  {
   "cell_type": "code",
   "execution_count": 13,
   "outputs": [
    {
     "name": "stdout",
     "output_type": "stream",
     "text": [
      "[1, 8, 27, 64, 125]\n",
      "[2, 4]\n"
     ]
    }
   ],
   "source": [
    "def f(x):\n",
    "  return x**3\n",
    "\n",
    "numbers = [1, 2, 3, 4, 5]\n",
    "\n",
    "a = list(map(f, numbers))\n",
    "print(a)\n",
    "\n",
    "def g(x):\n",
    "  return x % 2 == 0\n",
    "\n",
    "b = list(filter(g, numbers))\n",
    "print(b)"
   ],
   "metadata": {
    "collapsed": false,
    "ExecuteTime": {
     "end_time": "2023-11-02T06:45:09.099138Z",
     "start_time": "2023-11-02T06:45:08.923824Z"
    }
   },
   "id": "83ee167b176ba29b"
  },
  {
   "cell_type": "code",
   "execution_count": 14,
   "outputs": [
    {
     "name": "stdout",
     "output_type": "stream",
     "text": [
      "362880\n"
     ]
    }
   ],
   "source": [
    "from functools import reduce\n",
    "\n",
    "nums = [n for n in range(1, 10)]\n",
    "\n",
    "def h(x, y):\n",
    "  return x*y\n",
    "\n",
    "print(reduce(h, nums))  # 9!"
   ],
   "metadata": {
    "collapsed": false,
    "ExecuteTime": {
     "end_time": "2023-11-02T06:45:09.099996Z",
     "start_time": "2023-11-02T06:45:08.936156Z"
    }
   },
   "id": "2f74feabade4424c"
  },
  {
   "cell_type": "code",
   "execution_count": 14,
   "outputs": [],
   "source": [],
   "metadata": {
    "collapsed": false,
    "ExecuteTime": {
     "end_time": "2023-11-02T06:45:09.100722Z",
     "start_time": "2023-11-02T06:45:08.947686Z"
    }
   },
   "id": "a75219ab467cfb7a"
  }
 ],
 "metadata": {
  "kernelspec": {
   "display_name": "Python 3",
   "language": "python",
   "name": "python3"
  },
  "language_info": {
   "codemirror_mode": {
    "name": "ipython",
    "version": 2
   },
   "file_extension": ".py",
   "mimetype": "text/x-python",
   "name": "python",
   "nbconvert_exporter": "python",
   "pygments_lexer": "ipython2",
   "version": "2.7.6"
  }
 },
 "nbformat": 4,
 "nbformat_minor": 5
}
