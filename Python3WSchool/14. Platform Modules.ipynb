{
 "cells": [
  {
   "cell_type": "markdown",
   "source": [
    "# Platform Modules\n",
    "https://docs.python.org/3/library/platform.html"
   ],
   "metadata": {
    "collapsed": false
   },
   "id": "beff54b0ff9f9daa"
  },
  {
   "cell_type": "code",
   "execution_count": 9,
   "id": "initial_id",
   "metadata": {
    "collapsed": true,
    "ExecuteTime": {
     "end_time": "2023-11-02T07:01:05.615512Z",
     "start_time": "2023-11-02T07:01:05.598251Z"
    }
   },
   "outputs": [
    {
     "name": "stdout",
     "output_type": "stream",
     "text": [
      "['_Processor', '_WIN32_CLIENT_RELEASES', '_WIN32_SERVER_RELEASES', '__builtins__', '__cached__', '__copyright__', '__doc__', '__file__', '__loader__', '__name__', '__package__', '__spec__', '__version__', '_comparable_version', '_default_architecture', '_follow_symlinks', '_get_machine_win32', '_java_getprop', '_mac_ver_xml', '_node', '_norm_version', '_os_release_cache', '_os_release_candidates', '_parse_os_release', '_platform', '_platform_cache', '_sys_version', '_sys_version_cache', '_syscmd_file', '_syscmd_ver', '_uname_cache', '_unknown_as_blank', '_ver_stages', '_win32_ver', '_wmi_query', 'architecture', 'collections', 'freedesktop_os_release', 'functools', 'itertools', 'java_ver', 'libc_ver', 'mac_ver', 'machine', 'node', 'os', 'platform', 'processor', 'python_branch', 'python_build', 'python_compiler', 'python_implementation', 'python_revision', 'python_version', 'python_version_tuple', 're', 'release', 'sys', 'system', 'system_alias', 'uname', 'uname_result', 'version', 'win32_edition', 'win32_is_iot', 'win32_ver']\n"
     ]
    }
   ],
   "source": [
    "import platform, sys\n",
    "\n",
    "x = dir(platform) # Directory: danh bạ, thư mục, phần giải thích\n",
    "print(x)"
   ]
  },
  {
   "cell_type": "markdown",
   "source": [
    "# Cross Platform"
   ],
   "metadata": {
    "collapsed": false
   },
   "id": "976c67126bbb57e5"
  },
  {
   "cell_type": "code",
   "execution_count": 2,
   "outputs": [
    {
     "data": {
      "text/plain": "('64bit', '')"
     },
     "execution_count": 2,
     "metadata": {},
     "output_type": "execute_result"
    }
   ],
   "source": [
    "platform.architecture(executable=sys.executable, bits='', linkage='')"
   ],
   "metadata": {
    "collapsed": false,
    "ExecuteTime": {
     "end_time": "2023-11-02T06:44:03.975509Z",
     "start_time": "2023-11-02T06:44:03.897222Z"
    }
   },
   "id": "a9c2a54021707102"
  },
  {
   "cell_type": "code",
   "execution_count": 3,
   "outputs": [
    {
     "data": {
      "text/plain": "'nansachiminamotoMACBOOK-PRO.local'"
     },
     "execution_count": 3,
     "metadata": {},
     "output_type": "execute_result"
    }
   ],
   "source": [
    "platform.node()"
   ],
   "metadata": {
    "collapsed": false,
    "ExecuteTime": {
     "end_time": "2023-11-02T06:44:03.976930Z",
     "start_time": "2023-11-02T06:44:03.942383Z"
    }
   },
   "id": "4ac841528ed9ed6c"
  },
  {
   "cell_type": "code",
   "execution_count": 8,
   "outputs": [
    {
     "name": "stdout",
     "output_type": "stream",
     "text": [
      "x86_64\n",
      "macOS-14.0-x86_64-i386-64bit\n",
      "macOS-14.0-x86_64-i386-64bit\n",
      "i386\n"
     ]
    }
   ],
   "source": [
    "print(platform.machine())\n",
    "print(platform.platform(aliased=False, terse=False))\n",
    "print(platform.platform())\n",
    "print(platform.processor())\n",
    "# print(platform.system_alias(system, release, version))"
   ],
   "metadata": {
    "collapsed": false,
    "ExecuteTime": {
     "end_time": "2023-11-02T06:44:26.328363Z",
     "start_time": "2023-11-02T06:44:26.302139Z"
    }
   },
   "id": "fc984baf620e1297"
  },
  {
   "cell_type": "code",
   "execution_count": 5,
   "outputs": [
    {
     "name": "stdout",
     "output_type": "stream",
     "text": [
      "('v3.12.0:0fb18b02c8', 'Oct  2 2023 09:45:56')\n",
      "Clang 13.0.0 (clang-1300.0.29.30)\n",
      "v3.12.0\n",
      "CPython\n",
      "0fb18b02c8\n",
      "3.12.0\n",
      "('3', '12', '0')\n"
     ]
    }
   ],
   "source": [
    "print(platform.python_build())\n",
    "print(platform.python_compiler())\n",
    "print(platform.python_branch())\n",
    "print(platform.python_implementation())\n",
    "print(platform.python_revision())\n",
    "print(platform.python_version())\n",
    "print(platform.python_version_tuple())"
   ],
   "metadata": {
    "collapsed": false,
    "ExecuteTime": {
     "end_time": "2023-11-02T06:44:04.062840Z",
     "start_time": "2023-11-02T06:44:03.976320Z"
    }
   },
   "id": "67b219c9d2b471ec"
  },
  {
   "cell_type": "code",
   "execution_count": 6,
   "outputs": [
    {
     "name": "stdout",
     "output_type": "stream",
     "text": [
      "Darwin Kernel Version 23.0.0: Fri Sep 15 14:42:42 PDT 2023; root:xnu-10002.1.13~1/RELEASE_X86_64\n",
      "uname_result(system='Darwin', node='nansachiminamotoMACBOOK-PRO.local', release='23.0.0', version='Darwin Kernel Version 23.0.0: Fri Sep 15 14:42:42 PDT 2023; root:xnu-10002.1.13~1/RELEASE_X86_64', machine='x86_64')\n"
     ]
    }
   ],
   "source": [
    "print(platform.version())\n",
    "print(platform.uname())"
   ],
   "metadata": {
    "collapsed": false,
    "ExecuteTime": {
     "end_time": "2023-11-02T06:44:04.242873Z",
     "start_time": "2023-11-02T06:44:03.989807Z"
    }
   },
   "id": "3e8cce554d310663"
  },
  {
   "cell_type": "markdown",
   "source": [],
   "metadata": {
    "collapsed": false
   },
   "id": "95f03a21aac82143"
  },
  {
   "cell_type": "code",
   "execution_count": 6,
   "outputs": [],
   "source": [],
   "metadata": {
    "collapsed": false,
    "ExecuteTime": {
     "end_time": "2023-11-02T06:44:04.243475Z",
     "start_time": "2023-11-02T06:44:04.002473Z"
    }
   },
   "id": "d3bebb1bfb373e65"
  },
  {
   "cell_type": "markdown",
   "source": [
    "# MacOS Platform\n"
   ],
   "metadata": {
    "collapsed": false
   },
   "id": "895e549f16735fe0"
  },
  {
   "cell_type": "code",
   "execution_count": 7,
   "outputs": [
    {
     "name": "stdout",
     "output_type": "stream",
     "text": [
      "('14.0', ('', '', ''), 'x86_64')\n"
     ]
    }
   ],
   "source": [
    "print(platform.mac_ver())"
   ],
   "metadata": {
    "collapsed": false,
    "ExecuteTime": {
     "end_time": "2023-11-02T06:44:04.268560Z",
     "start_time": "2023-11-02T06:44:04.017562Z"
    }
   },
   "id": "4f304a728601d20d"
  }
 ],
 "metadata": {
  "kernelspec": {
   "display_name": "Python 3",
   "language": "python",
   "name": "python3"
  },
  "language_info": {
   "codemirror_mode": {
    "name": "ipython",
    "version": 2
   },
   "file_extension": ".py",
   "mimetype": "text/x-python",
   "name": "python",
   "nbconvert_exporter": "python",
   "pygments_lexer": "ipython2",
   "version": "2.7.6"
  }
 },
 "nbformat": 4,
 "nbformat_minor": 5
}
