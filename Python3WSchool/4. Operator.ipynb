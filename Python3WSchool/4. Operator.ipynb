{
 "cells": [
  {
   "cell_type": "markdown",
   "source": [
    "# Python Operator\n",
    "- https://www.w3schools.com/python/python_operators.asp"
   ],
   "metadata": {
    "collapsed": false
   },
   "id": "2ca992a17300f1c2"
  },
  {
   "cell_type": "markdown",
   "source": [
    "# Arithmetic Operators\n",
    "<table style=\"width:100%\">\n",
    "  <tr>\n",
    "    <th>Operator</th>\n",
    "    <th>Name</th>\n",
    "    <th>Example</th>\n",
    "  </tr>\n",
    "\n",
    "  <tr>\n",
    "    <td>%</td>\n",
    "    <td>Modulus</td>\n",
    "    <td>x % y</td>\n",
    "  </tr>\n",
    "  \n",
    "  <tr>\n",
    "    <td>//</td>\n",
    "    <td>Floor division</td>\n",
    "    <td>x // y</td>\n",
    "  </tr>\n",
    "</table>\n"
   ],
   "metadata": {
    "collapsed": false
   },
   "id": "a8a336a6e8908a84"
  },
  {
   "cell_type": "code",
   "execution_count": null,
   "id": "initial_id",
   "metadata": {
    "collapsed": true,
    "ExecuteTime": {
     "end_time": "2023-11-02T06:43:30.162616Z",
     "start_time": "2023-11-02T06:43:29.991272Z"
    }
   },
   "outputs": [],
   "source": []
  },
  {
   "cell_type": "markdown",
   "source": [
    "# Identity Operators\n",
    "If they are actually the same object, with the same memory location, return True\n",
    "\n",
    "<table style=\"width:100%\">\n",
    "  <tr>\n",
    "    <td>Operator</td>\n",
    "    <td>Description</td>\n",
    "    <td>Example</td>\n",
    "  </tr>\n",
    "  \n",
    "  <tr>\n",
    "    <td>is</td>\n",
    "    <td>Returns True if both variables are the same object</td>\n",
    "    <td>x is y</td>\n",
    "  </tr>\n",
    "  \n",
    "  <tr>\n",
    "    <td>is not</td>\n",
    "    <td>Returns True if both variables are not the same object</td>\n",
    "    <td>x is not y</td>\n",
    "  </tr>\n",
    "</table>\n"
   ],
   "metadata": {
    "collapsed": false
   },
   "id": "abda97543842fdcd"
  },
  {
   "cell_type": "code",
   "execution_count": null,
   "outputs": [],
   "source": [],
   "metadata": {
    "collapsed": false,
    "ExecuteTime": {
     "end_time": "2023-11-02T06:43:30.163517Z",
     "start_time": "2023-11-02T06:43:30.006431Z"
    }
   },
   "id": "e20acb0bc4a0146c"
  },
  {
   "cell_type": "markdown",
   "source": [
    "# Bitwise Operators\n",
    "Bitwise operators are used to compare (binary) numbers\n",
    "\n",
    "<table style=\"width:100%\">\n",
    "  <tr>\n",
    "    <th>Operator</th>\n",
    "    <th>Name</th>\n",
    "    <th>Description</th>\n",
    "    <th>Example</th>\n",
    "  </tr>\n",
    "  \n",
    "  <tr>\n",
    "    <td>&</td>\n",
    "    <td>AND</td>\n",
    "    <td>Sets each bit to 1 if both bits are 1</td>\n",
    "    <td>x & y</td>\n",
    "  </tr>\n",
    "  \n",
    "  <tr>\n",
    "    <td>|</td>\n",
    "    <td>OR</td>\n",
    "    <td>Sets each bit to 1 if one of two bits is 1</td>\n",
    "    <td>x | y</td>\n",
    "  </tr>\n",
    "  \n",
    "  <tr>\n",
    "    <td>^</td>\n",
    "    <td>XOR</td>\n",
    "    <td>Sets each bit to 1 if only one of two bits is 1</td>\n",
    "    <td>x ^ y</td>\n",
    "  </tr>\n",
    "  \n",
    "  <tr>\n",
    "    <td>~</td>\n",
    "    <td>NOT</td>\n",
    "    <td>Inverts all the bits</td>\n",
    "    <td>~x</td>\n",
    "  </tr>\n",
    "  \n",
    "  <tr>\n",
    "    <td>&lt;&lt;</td>\n",
    "    <td>Zero fill left shift</td>\n",
    "    <td>Shift left by pushing zeros in from the right and let the leftmost bits fall off</td>\n",
    "    <td>x &lt;&lt; 2</td>\n",
    "  </tr>\n",
    "  \n",
    "  <tr>\n",
    "    <td>&gt;&gt;</td>\n",
    "    <td>Signed right shift</td>\n",
    "    <td>Shift right by pushing copies of the leftmost bit in from the left, and let the rightmost bits fall off</td>\n",
    "    <td>x &gt;&gt; 2</td>\n",
    "  </tr>\n",
    "</table>\n"
   ],
   "metadata": {
    "collapsed": false
   },
   "id": "95d8413a2066a85d"
  },
  {
   "cell_type": "code",
   "execution_count": null,
   "outputs": [],
   "source": [],
   "metadata": {
    "collapsed": false,
    "ExecuteTime": {
     "end_time": "2023-11-02T06:43:30.164274Z",
     "start_time": "2023-11-02T06:43:30.016320Z"
    }
   },
   "id": "92533af4e73f1513"
  },
  {
   "cell_type": "markdown",
   "source": [
    "# Operator Precedence\n",
    "- The precedence order is described in the table below, starting with the highest precedence at the top\n",
    "- If two operators have the same precedence, the expression is evaluated from left to right\n",
    "\n",
    "<table style=\"width:100%\">\n",
    "  <tr>\n",
    "    <th>Operator</th>\n",
    "    <th>Description</th>\n",
    "  </tr>\n",
    "  <tr>\n",
    "    <td>()</td>\n",
    "    <td>Parentheses</td>\n",
    "  </tr>\n",
    "  <tr>\n",
    "    <td>**</td>\n",
    "    <td>Exponentiation</td>\n",
    "  </tr>\n",
    "  <tr>\n",
    "    <td>+x, -x, ~x</td>\n",
    "    <td>Unary plus, unary minus, and bitwise NOT</td>\n",
    "  </tr>\n",
    "  <tr>\n",
    "    <td>*, /, //, %</td>\n",
    "    <td>Multiplication, division, floor division, and modulus</td>\n",
    "  </tr>\n",
    "  <tr>\n",
    "    <td>+, -</td>\n",
    "    <td>Addition and subtraction</td>\n",
    "  </tr>\n",
    "  <tr>\n",
    "    <td>&lt;&lt;, &gt;&gt;</td>\n",
    "    <td>Bitwise left and right shifts</td>\n",
    "  </tr>\n",
    "  <tr>\n",
    "    <td>&</td>\n",
    "    <td>Bitwise AND</td>\n",
    "  </tr>\n",
    "  <tr>\n",
    "    <td>^</td>\n",
    "    <td>Bitwise XOR</td>\n",
    "  </tr>\n",
    "  <tr>\n",
    "    <td>|</td>\n",
    "    <td>Bitwise OR</td>\n",
    "  </tr>\n",
    "  <tr>\n",
    "    <td>==, !=, >, >=, &lt;, &lt;=, is, is not, in, not in</td>\n",
    "    <td>Comparisons, identity, and membership operators</td>\n",
    "  </tr>\n",
    "  <tr>\n",
    "    <td>not</td>\n",
    "    <td>Logical NOT</td>\n",
    "  </tr>\n",
    "  <tr>\n",
    "    <td>and</td>\n",
    "    <td>Logical AND</td>\n",
    "  </tr>\n",
    "  <tr>\n",
    "    <td>or</td>\n",
    "    <td>Logical OR</td>\n",
    "  </tr>\n",
    "</table>\n"
   ],
   "metadata": {
    "collapsed": false
   },
   "id": "9a9a11b325e3943f"
  },
  {
   "cell_type": "code",
   "execution_count": null,
   "outputs": [],
   "source": [],
   "metadata": {
    "collapsed": false,
    "ExecuteTime": {
     "end_time": "2023-11-02T06:43:30.165567Z",
     "start_time": "2023-11-02T06:43:30.026666Z"
    }
   },
   "id": "68a3667e2261a0f8"
  }
 ],
 "metadata": {
  "kernelspec": {
   "display_name": "Python 3",
   "language": "python",
   "name": "python3"
  },
  "language_info": {
   "codemirror_mode": {
    "name": "ipython",
    "version": 2
   },
   "file_extension": ".py",
   "mimetype": "text/x-python",
   "name": "python",
   "nbconvert_exporter": "python",
   "pygments_lexer": "ipython2",
   "version": "2.7.6"
  }
 },
 "nbformat": 4,
 "nbformat_minor": 5
}
