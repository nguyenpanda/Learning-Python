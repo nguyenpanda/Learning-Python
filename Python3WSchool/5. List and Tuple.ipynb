{
 "cells": [
  {
   "cell_type": "code",
   "execution_count": null,
   "id": "initial_id",
   "metadata": {
    "collapsed": true,
    "ExecuteTime": {
     "end_time": "2023-11-02T06:43:32.795878Z",
     "start_time": "2023-11-02T06:43:32.340709Z"
    }
   },
   "outputs": [],
   "source": []
  },
  {
   "cell_type": "markdown",
   "source": [
    "# List Method\n",
    "\n",
    "- https://www.w3schools.com/python/python_lists_methods.asp\n",
    "\n",
    "<table style=\"width:100%\">\n",
    "  <tr>\n",
    "    <th>Method</th>\n",
    "    <th>Description</th>\n",
    "  </tr>\n",
    "  <tr>\n",
    "    <td>append()</td>\n",
    "    <td>Adds an element at the end of the list</td>\n",
    "  </tr>\n",
    "  <tr>\n",
    "    <td>clear()</td>\n",
    "    <td>Removes all the elements from the list</td>\n",
    "  </tr>\n",
    "  <tr>\n",
    "    <td>copy()</td>\n",
    "    <td>Returns a copy of the list</td>\n",
    "  </tr>\n",
    "  <tr>\n",
    "    <td>count()</td>\n",
    "    <td>Returns the number of elements with the specified value</td>\n",
    "  </tr>\n",
    "  <tr>\n",
    "    <td>extend()</td>\n",
    "    <td>Add the elements of a list (or any iterable), to the end of the current list</td>\n",
    "  </tr>\n",
    "  <tr>\n",
    "    <td>index()</td>\n",
    "    <td>Returns the index of the first element with the specified value</td>\n",
    "  </tr>\n",
    "  <tr>\n",
    "    <td>insert()</td>\n",
    "    <td>Adds an element at the specified position</td>\n",
    "  </tr>\n",
    "  <tr>\n",
    "    <td>pop()</td>\n",
    "    <td>Removes the element at the specified position</td>\n",
    "  </tr>\n",
    "  <tr>\n",
    "    <td>remove()</td>\n",
    "    <td>Removes the item with the specified value</td>\n",
    "  </tr>\n",
    "  <tr>\n",
    "    <td>reverse()</td>\n",
    "    <td>Reverses the order of the list</td>\n",
    "  </tr>\n",
    "  <tr>\n",
    "    <td>sort()</td>\n",
    "    <td>Sorts the list</td>\n",
    "  </tr>\n",
    "</table>\n"
   ],
   "metadata": {
    "collapsed": false
   },
   "id": "3e7df426238149e0"
  },
  {
   "cell_type": "code",
   "execution_count": 1,
   "outputs": [
    {
     "name": "stdout",
     "output_type": "stream",
     "text": [
      "['pineapple', 'orange', 'mango', 'kiwi', 'banana']\n",
      "[50, 65, 23, 82, 100]\n",
      "['banana', 'cherry', 'Kiwi', 'Orange']\n"
     ]
    }
   ],
   "source": [
    "thislist = [\"orange\", \"mango\", \"kiwi\", \"pineapple\", \"banana\"]\n",
    "thislist.sort(reverse = True)\n",
    "print(thislist)\n",
    "\n",
    "def myfunc(n):\n",
    "    return abs(n - 50)\n",
    "\n",
    "thislist = [100, 50, 65, 82, 23]\n",
    "thislist.sort(key = myfunc)\n",
    "print(thislist)\n",
    "\n",
    "thislist = [\"banana\", \"Orange\", \"Kiwi\", \"cherry\"]\n",
    "thislist.sort(key = str.lower)\n",
    "print(thislist)"
   ],
   "metadata": {
    "collapsed": false,
    "ExecuteTime": {
     "end_time": "2023-11-02T06:43:32.797608Z",
     "start_time": "2023-11-02T06:43:32.360096Z"
    }
   },
   "id": "3a7a9e34ea276f3e"
  },
  {
   "cell_type": "markdown",
   "source": [
    "# Tuple Method\n",
    "\n",
    "- https://www.w3schools.com/python/python_tuples_methods.asp\n",
    "\n",
    "<table style=\"width:100%\">\n",
    "  <tr>\n",
    "    <th>Method</th>\n",
    "    <th>Description</th>\n",
    "  </tr>\n",
    "  <tr>\n",
    "    <td>count()</td>\n",
    "    <td>Returns the number of times a specified value occurs in a tuple</td>\n",
    "  </tr>\n",
    "  <tr>\n",
    "    <td>index()</td>\n",
    "    <td>Searches the tuple for a specified value and returns the position of where it was found</td>\n",
    "  </tr>\n",
    "</table>\n"
   ],
   "metadata": {
    "collapsed": false
   },
   "id": "69ba8bfa5322f192"
  },
  {
   "cell_type": "code",
   "execution_count": 1,
   "outputs": [],
   "source": [],
   "metadata": {
    "collapsed": false,
    "ExecuteTime": {
     "end_time": "2023-11-02T06:43:32.798562Z",
     "start_time": "2023-11-02T06:43:32.374718Z"
    }
   },
   "id": "e829b46f006b4a7e"
  },
  {
   "cell_type": "markdown",
   "source": [
    "# Using Asterisk*\n",
    "- List or Tuple"
   ],
   "metadata": {
    "collapsed": false
   },
   "id": "b9944710cf739748"
  },
  {
   "cell_type": "code",
   "execution_count": 2,
   "outputs": [
    {
     "name": "stdout",
     "output_type": "stream",
     "text": [
      "apple\n",
      "banana\n",
      "['cherry', 'strawberry', 'raspberry']\n",
      "--------------\n",
      "apple\n",
      "['banana', 'cherry', 'strawberry']\n",
      "raspberry\n"
     ]
    }
   ],
   "source": [
    "fruits = [\"apple\", \"banana\", \"cherry\", \"strawberry\", \"raspberry\"]\n",
    "\n",
    "(green, yellow, *red) = fruits\n",
    "print(green)\n",
    "print(yellow)\n",
    "print(red)\n",
    "print('--------------')\n",
    "(green, *tropic, red) = fruits\n",
    "print(green)\n",
    "print(tropic)\n",
    "print(red)"
   ],
   "metadata": {
    "collapsed": false,
    "ExecuteTime": {
     "end_time": "2023-11-02T06:43:32.806747Z",
     "start_time": "2023-11-02T06:43:32.393718Z"
    }
   },
   "id": "6a59132a91606fed"
  },
  {
   "cell_type": "code",
   "execution_count": 2,
   "outputs": [],
   "source": [],
   "metadata": {
    "collapsed": false,
    "ExecuteTime": {
     "end_time": "2023-11-02T06:43:32.808512Z",
     "start_time": "2023-11-02T06:43:32.413135Z"
    }
   },
   "id": "5fc72af40a8dd930"
  }
 ],
 "metadata": {
  "kernelspec": {
   "display_name": "Python 3",
   "language": "python",
   "name": "python3"
  },
  "language_info": {
   "codemirror_mode": {
    "name": "ipython",
    "version": 2
   },
   "file_extension": ".py",
   "mimetype": "text/x-python",
   "name": "python",
   "nbconvert_exporter": "python",
   "pygments_lexer": "ipython2",
   "version": "2.7.6"
  }
 },
 "nbformat": 4,
 "nbformat_minor": 5
}
