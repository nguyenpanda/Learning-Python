{
 "cells": [
  {
   "cell_type": "markdown",
   "source": [
    "# Boolean\n",
    "[Boolean 3WSchool](https://www.w3schools.com/python/python_booleans.asp)"
   ],
   "metadata": {
    "collapsed": false
   },
   "id": "a80bb97d4c8c4456"
  },
  {
   "cell_type": "markdown",
   "source": [
    "# Most Values are True\n",
    "- Almost any value is evaluated to True if it has some sort of content.\n",
    "- Any string is True, except empty strings.\n",
    "- Any number is True, except 0.\n",
    "- Any list, tuple, set, and dictionary are True, except empty ones.\n",
    "\n",
    "--> Empty or length equal 0, return False\n"
   ],
   "metadata": {
    "collapsed": false
   },
   "id": "e33b3d7d89878911"
  },
  {
   "cell_type": "code",
   "execution_count": 1,
   "id": "initial_id",
   "metadata": {
    "collapsed": true,
    "ExecuteTime": {
     "end_time": "2023-10-31T18:24:32.862796Z",
     "start_time": "2023-10-31T18:24:32.853628Z"
    }
   },
   "outputs": [
    {
     "name": "stdout",
     "output_type": "stream",
     "text": [
      "True\n"
     ]
    }
   ],
   "source": [
    "x = 10\n",
    "print(isinstance(x, int))"
   ]
  },
  {
   "cell_type": "code",
   "execution_count": null,
   "outputs": [],
   "source": [],
   "metadata": {
    "collapsed": false
   },
   "id": "363c635b742586f"
  }
 ],
 "metadata": {
  "kernelspec": {
   "display_name": "Python 3",
   "language": "python",
   "name": "python3"
  },
  "language_info": {
   "codemirror_mode": {
    "name": "ipython",
    "version": 2
   },
   "file_extension": ".py",
   "mimetype": "text/x-python",
   "name": "python",
   "nbconvert_exporter": "python",
   "pygments_lexer": "ipython2",
   "version": "2.7.6"
  }
 },
 "nbformat": 4,
 "nbformat_minor": 5
}
