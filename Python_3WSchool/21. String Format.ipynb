{
 "cells": [
  {
   "cell_type": "markdown",
   "source": [
    "# String Format\n",
    "\n",
    "### String format()"
   ],
   "metadata": {
    "collapsed": false
   },
   "id": "a9ea57554516b214"
  },
  {
   "cell_type": "code",
   "execution_count": 7,
   "id": "initial_id",
   "metadata": {
    "collapsed": true,
    "ExecuteTime": {
     "end_time": "2023-11-02T07:50:45.855056Z",
     "start_time": "2023-11-02T07:50:45.843081Z"
    }
   },
   "outputs": [
    {
     "name": "stdout",
     "output_type": "stream",
     "text": [
      "The price is 49 dollars\n",
      "The price is 49.00 dollars\n"
     ]
    }
   ],
   "source": [
    "price = 49\n",
    "txt = \"The price is {} dollars\"\n",
    "print(txt.format(price))\n",
    "\n",
    "txt = \"The price is {:.2f} dollars\"\n",
    "print(txt.format(price))"
   ]
  },
  {
   "cell_type": "code",
   "execution_count": 4,
   "outputs": [
    {
     "name": "stdout",
     "output_type": "stream",
     "text": [
      "I want 3 pieces of item number 567 for 49.00 dollars.\n"
     ]
    }
   ],
   "source": [
    "quantity = 3\n",
    "itemno = 567\n",
    "price = 49\n",
    "myorder = \"I want {} pieces of item number {} for {:.2f} dollars.\"\n",
    "print(myorder.format(quantity, itemno, price))"
   ],
   "metadata": {
    "collapsed": false,
    "ExecuteTime": {
     "end_time": "2023-11-02T07:49:02.571257Z",
     "start_time": "2023-11-02T07:49:02.382598Z"
    }
   },
   "id": "74797ff2867492dd"
  },
  {
   "cell_type": "code",
   "execution_count": null,
   "outputs": [],
   "source": [],
   "metadata": {
    "collapsed": false
   },
   "id": "12d68c63354246eb"
  },
  {
   "cell_type": "markdown",
   "source": [
    "### Index Numbers\n",
    "- You can use index numbers (a number inside the curly brackets {0}) to be sure the values are placed in the correct placeholders"
   ],
   "metadata": {
    "collapsed": false
   },
   "id": "8786062baef68736"
  },
  {
   "cell_type": "code",
   "execution_count": 6,
   "outputs": [
    {
     "name": "stdout",
     "output_type": "stream",
     "text": [
      "I want 3 pieces of item number 567 for 49.00 dollars.\n",
      "His name is John. John is 36 years old.\n"
     ]
    }
   ],
   "source": [
    "quantity = 3\n",
    "itemno = 567\n",
    "price = 49\n",
    "myorder = \"I want {0} pieces of item number {1} for {2:.2f} dollars.\"\n",
    "print(myorder.format(quantity, itemno, price))\n",
    "\n",
    "age = 36\n",
    "name = \"John\"\n",
    "txt = \"His name is {1}. {1} is {0} years old.\"\n",
    "print(txt.format(age, name))"
   ],
   "metadata": {
    "collapsed": false,
    "ExecuteTime": {
     "end_time": "2023-11-02T07:50:33.090127Z",
     "start_time": "2023-11-02T07:50:33.075619Z"
    }
   },
   "id": "84d5c98365f42d3a"
  },
  {
   "cell_type": "code",
   "execution_count": null,
   "outputs": [],
   "source": [],
   "metadata": {
    "collapsed": false
   },
   "id": "8a0c41fdf8b2baff"
  },
  {
   "cell_type": "markdown",
   "source": [
    "### Named Indexes"
   ],
   "metadata": {
    "collapsed": false
   },
   "id": "7792b37098ea8557"
  },
  {
   "cell_type": "code",
   "execution_count": 8,
   "outputs": [
    {
     "name": "stdout",
     "output_type": "stream",
     "text": [
      "I have a Ford, it is a Mustang.\n"
     ]
    }
   ],
   "source": [
    "myorder = \"I have a {carname}, it is a {model}.\"\n",
    "print(myorder.format(carname = \"Ford\", model = \"Mustang\"))"
   ],
   "metadata": {
    "collapsed": false,
    "ExecuteTime": {
     "end_time": "2023-11-02T07:51:14.383747Z",
     "start_time": "2023-11-02T07:51:14.361630Z"
    }
   },
   "id": "ddc59ffe1ac0be0d"
  },
  {
   "cell_type": "code",
   "execution_count": null,
   "outputs": [],
   "source": [],
   "metadata": {
    "collapsed": false
   },
   "id": "bbffe40d86f7ef5b"
  },
  {
   "cell_type": "markdown",
   "source": [
    "### Alignment"
   ],
   "metadata": {
    "collapsed": false
   },
   "id": "8c47c9e7a6c0b66c"
  },
  {
   "cell_type": "code",
   "execution_count": 23,
   "outputs": [
    {
     "name": "stdout",
     "output_type": "stream",
     "text": [
      "x          sqrt(x)\n",
      "--------------------\n",
      "1     1.0000000000\n",
      "2     1.4142135624\n",
      "3     1.7320508076\n",
      "4     2.0000000000\n",
      "5     2.2360679775\n",
      "6     2.4494897428\n",
      "7     2.6457513111\n",
      "8     2.8284271247\n",
      "9     3.0000000000\n"
     ]
    }
   ],
   "source": [
    "import math\n",
    "x = [1, 2, 3, 4, 5, 6, 7, 8, 9]\n",
    "y = [math.sqrt(i) for i in x]\n",
    "\n",
    "print(\"{:<2} {:>15}\".format('x', 'sqrt(x)'))\n",
    "print('{:->20}'.format(''))\n",
    "for i in range(len(x)):\n",
    "    print(\"{:<2} {:>15.10f}\".format(x[i], y[i]))"
   ],
   "metadata": {
    "collapsed": false,
    "ExecuteTime": {
     "end_time": "2023-11-02T07:59:47.035516Z",
     "start_time": "2023-11-02T07:59:47.018422Z"
    }
   },
   "id": "bc573f43b835ca79"
  },
  {
   "cell_type": "code",
   "execution_count": 23,
   "outputs": [],
   "source": [],
   "metadata": {
    "collapsed": false,
    "ExecuteTime": {
     "end_time": "2023-11-02T07:59:51.375509Z",
     "start_time": "2023-11-02T07:59:51.350176Z"
    }
   },
   "id": "2e8ae5ceeecc70f8"
  },
  {
   "cell_type": "code",
   "execution_count": null,
   "outputs": [],
   "source": [],
   "metadata": {
    "collapsed": false
   },
   "id": "c8b07018fa081ac9"
  }
 ],
 "metadata": {
  "kernelspec": {
   "display_name": "Python 3",
   "language": "python",
   "name": "python3"
  },
  "language_info": {
   "codemirror_mode": {
    "name": "ipython",
    "version": 2
   },
   "file_extension": ".py",
   "mimetype": "text/x-python",
   "name": "python",
   "nbconvert_exporter": "python",
   "pygments_lexer": "ipython2",
   "version": "2.7.6"
  }
 },
 "nbformat": 4,
 "nbformat_minor": 5
}
