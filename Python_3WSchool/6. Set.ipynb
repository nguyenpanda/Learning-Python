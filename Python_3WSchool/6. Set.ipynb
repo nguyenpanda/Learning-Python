{
 "cells": [
  {
   "cell_type": "markdown",
   "source": [
    "# Set\n",
    "- Once a set is created, you cannot change its items, but you can add new items\n",
    "- pop(): remove an item **RANDOMLY**\n",
    "- **Note**: If the item to remove does not exist, remove() will raise an error, using discard() instead \n",
    "\n",
    "[Set 3WSchool](https://www.w3schools.com/python/python_sets_methods.asp)"
   ],
   "metadata": {
    "collapsed": false
   },
   "id": "74bb8a51c3edd0fd"
  },
  {
   "cell_type": "code",
   "execution_count": null,
   "outputs": [],
   "source": [],
   "metadata": {
    "collapsed": false,
    "ExecuteTime": {
     "end_time": "2023-11-02T06:43:33.846439Z",
     "start_time": "2023-11-02T06:43:33.648680Z"
    }
   },
   "id": "b2036e1daefd9980"
  },
  {
   "cell_type": "markdown",
   "source": [
    "# Set method\n",
    "### Set editing\n",
    "<table style=\"width:100%\">\n",
    "  <tr>\n",
    "    <th>Method</th>\n",
    "    <th>Description</th>\n",
    "  </tr>\n",
    "  \n",
    "  <tr>\n",
    "    <td>add()</td>\n",
    "    <td>Adds an element to the set</td>\n",
    "  </tr>\n",
    "  \n",
    "  <tr>\n",
    "    <td>clear()</td>\n",
    "    <td>Removes all the elements from the set</td>\n",
    "  </tr>\n",
    "  \n",
    "  <tr>\n",
    "    <td>discard()</td>\n",
    "    <td>Remove the specified item, no raising error if no element</td>\n",
    "  </tr>\n",
    "\n",
    "  <tr>\n",
    "    <td>pop()</td>\n",
    "    <td>RANDOMLY Removes an element from the set</td>\n",
    "  </tr>\n",
    "  \n",
    "  <tr>\n",
    "    <td>remove()</td>\n",
    "    <td>Removes the specified element</td>\n",
    "  </tr>\n",
    "  \n",
    "  <tr>\n",
    "    <td>copy()</td>\n",
    "    <td>Returns a copy of the set</td>\n",
    "  </tr>\n",
    "</table>\n",
    "\n",
    "### Checking\n",
    "<table style=\"width:100%\">\n",
    "  <tr>\n",
    "    <th>Method</th>\n",
    "    <th>Description</th>\n",
    "  </tr>\n",
    "  \n",
    "  <tr>\n",
    "    <td>isdisjoint()</td>\n",
    "    <td>Returns whether two sets have an intersection or not</td>\n",
    "  </tr>\n",
    "  <tr>\n",
    "    <td>issubset()</td>\n",
    "    <td>Returns whether another set contains this set or not</td>\n",
    "  </tr>\n",
    "  <tr>\n",
    "    <td>issuperset()</td>\n",
    "    <td>Returns whether this set contains another set or not</td>\n",
    "  </tr>\n",
    "</table>\n",
    "\n",
    "### Set operator\n",
    "<table style=\"width:100%\">\n",
    "  <tr>\n",
    "    <th>Method</th>\n",
    "    <th>Description</th>\n",
    "  </tr>\n",
    "  \n",
    "  <tr>\n",
    "    <td>intersection()</td>\n",
    "    <td>Returns a set, that is the intersection of two other sets</td>\n",
    "  </tr>\n",
    "  \n",
    "  <tr>\n",
    "    <td>intersection_update()</td>\n",
    "    <td>Removes the items in this set that are not present in other, specified set(s)</td>\n",
    "  </tr>\n",
    "  \n",
    "  <tr>\n",
    "    <td>union(set)</td>\n",
    "    <td>Return a set containing the union of sets</td>\n",
    "  </tr>\n",
    "  \n",
    "  <tr>\n",
    "    <td>update(set)</td>\n",
    "    <td>Update the set with the union of this set and others</td>\n",
    "  </tr>\n",
    "  \n",
    "  <tr>\n",
    "    <td>difference(set)</td>\n",
    "    <td>Returns a new set containing the difference between two or more sets</td>\n",
    "  </tr>\n",
    "  \n",
    "  <tr>\n",
    "    <td>difference_update(set)</td>\n",
    "    <td>Removes the items in this set that are also included in another, specified set</td>\n",
    "  </tr>\n",
    "  \n",
    "  <tr>\n",
    "    <td>symmetric_difference(set)</td>\n",
    "    <td>Return a set that contains all items from both sets, except items that are present in both sets</td>\n",
    "  </tr>\n",
    "  \n",
    "  <tr>\n",
    "    <td>symmetric_difference_update()</td>\n",
    "    <td>Inserts the symmetric differences from this set and another</td>\n",
    "  </tr>\n",
    "</table>"
   ],
   "metadata": {
    "collapsed": false
   },
   "id": "efd52e957c549a0a"
  },
  {
   "cell_type": "code",
   "execution_count": null,
   "outputs": [],
   "source": [],
   "metadata": {
    "collapsed": false,
    "ExecuteTime": {
     "end_time": "2023-11-02T06:43:33.847387Z",
     "start_time": "2023-11-02T06:43:33.671162Z"
    }
   },
   "id": "28dc7aacd0a09523"
  },
  {
   "cell_type": "markdown",
   "source": [
    "### Different & different_update method \n",
    "- The different() method -> Return a **NEW** set that contains the items that only exist in set x, and not in set y\n",
    "- The difference_update() method removes the items that exist in both sets."
   ],
   "metadata": {
    "collapsed": false
   },
   "id": "8cd4862fd88770cb"
  },
  {
   "cell_type": "code",
   "execution_count": 1,
   "id": "initial_id",
   "metadata": {
    "collapsed": true,
    "ExecuteTime": {
     "end_time": "2023-11-02T06:43:33.849331Z",
     "start_time": "2023-11-02T06:43:33.684027Z"
    }
   },
   "outputs": [
    {
     "name": "stdout",
     "output_type": "stream",
     "text": [
      "{'cherry', 'apple', 'banana'} \n",
      " {'microsoft', 'google', 'apple'}\n",
      "z = x.difference(y): {'banana', 'cherry'}\n",
      "---------------\n",
      "{'cherry', 'apple', 'banana'} \n",
      " {'microsoft', 'google', 'apple'}\n",
      "{'cherry', 'banana'} \n",
      " {'microsoft', 'google', 'apple'}\n"
     ]
    }
   ],
   "source": [
    "x = {\"apple\", \"banana\", \"cherry\"}\n",
    "y = {\"google\", \"microsoft\", \"apple\"}\n",
    "z = x.difference(y)\n",
    "\n",
    "print(x, '\\n', y)\n",
    "print(f'z = x.difference(y): {z}')\n",
    "print('---------------')\n",
    "\n",
    "x = {\"apple\", \"banana\", \"cherry\"}\n",
    "y = {\"google\", \"microsoft\", \"apple\"}\n",
    "print(x, '\\n', y)\n",
    "x.difference_update(y)\n",
    "print(x, '\\n', y)"
   ]
  },
  {
   "cell_type": "code",
   "execution_count": 1,
   "outputs": [],
   "source": [],
   "metadata": {
    "collapsed": false,
    "ExecuteTime": {
     "end_time": "2023-11-02T06:43:33.867030Z",
     "start_time": "2023-11-02T06:43:33.699209Z"
    }
   },
   "id": "8a2c7df95ba536c7"
  }
 ],
 "metadata": {
  "kernelspec": {
   "display_name": "Python 3",
   "language": "python",
   "name": "python3"
  },
  "language_info": {
   "codemirror_mode": {
    "name": "ipython",
    "version": 2
   },
   "file_extension": ".py",
   "mimetype": "text/x-python",
   "name": "python",
   "nbconvert_exporter": "python",
   "pygments_lexer": "ipython2",
   "version": "2.7.6"
  }
 },
 "nbformat": 4,
 "nbformat_minor": 5
}
