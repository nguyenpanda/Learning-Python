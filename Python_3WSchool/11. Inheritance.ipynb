{
 "cells": [
  {
   "cell_type": "markdown",
   "source": [
    "# Inheritance\n",
    "- Inheritance allows us to define a class that inherits all the methods and properties from another class.\n",
    "\n",
    "- Parent class is the class being inherited from, also called base class.\n",
    "\n",
    "- Child class is the class that inherits from another class, also called derived class.\n",
    "\n"
   ],
   "metadata": {
    "collapsed": false
   },
   "id": "2cdd36349a755f11"
  },
  {
   "cell_type": "code",
   "execution_count": 1,
   "id": "initial_id",
   "metadata": {
    "collapsed": true,
    "ExecuteTime": {
     "end_time": "2023-11-02T06:43:53.813157Z",
     "start_time": "2023-11-02T06:43:53.671677Z"
    }
   },
   "outputs": [
    {
     "name": "stdout",
     "output_type": "stream",
     "text": [
      "John Doe\n",
      "Mike Olsen\n"
     ]
    }
   ],
   "source": [
    "class Person:\n",
    "  def __init__(self, fname, lname):\n",
    "    self.firstname = fname\n",
    "    self.lastname = lname\n",
    "\n",
    "  def printname(self):\n",
    "    print(self.firstname, self.lastname)\n",
    "\n",
    "#Use the Person class to create an object, and then execute the printname method:\n",
    "\n",
    "x = Person(\"John\", \"Doe\")\n",
    "x.printname()\n",
    "\n",
    "class Student(Person):\n",
    "  pass\n",
    "\n",
    "x = Student(\"Mike\", \"Olsen\")\n",
    "x.printname()"
   ]
  },
  {
   "cell_type": "code",
   "execution_count": 1,
   "outputs": [],
   "source": [],
   "metadata": {
    "collapsed": false,
    "ExecuteTime": {
     "end_time": "2023-11-02T06:43:53.815443Z",
     "start_time": "2023-11-02T06:43:53.687272Z"
    }
   },
   "id": "e0d4a4d24e3a66bf"
  },
  {
   "cell_type": "markdown",
   "source": [
    "# Add the __init__() Function"
   ],
   "metadata": {
    "collapsed": false
   },
   "id": "8c538013d596d648"
  },
  {
   "cell_type": "code",
   "execution_count": 2,
   "outputs": [],
   "source": [
    "# Note: The child's __init__() function overrides the inheritance of the parent's __init__() function.\n",
    "class Student(Person):\n",
    "  def __init__(self, fname, lname):\n",
    "    Person.__init__(self, fname, lname)"
   ],
   "metadata": {
    "collapsed": false,
    "ExecuteTime": {
     "end_time": "2023-11-02T06:43:53.816928Z",
     "start_time": "2023-11-02T06:43:53.698488Z"
    }
   },
   "id": "f0ac981e817a0e20"
  },
  {
   "cell_type": "code",
   "execution_count": 2,
   "outputs": [],
   "source": [],
   "metadata": {
    "collapsed": false,
    "ExecuteTime": {
     "end_time": "2023-11-02T06:43:53.817511Z",
     "start_time": "2023-11-02T06:43:53.706951Z"
    }
   },
   "id": "c5191b5f079b9e27"
  },
  {
   "cell_type": "markdown",
   "source": [
    "# Use the super() Function\n",
    "- Python also has a super() function that will make the child class inherit **THE METHODS AND PROPERTIES** from its parent\n",
    "- If you add a method in the child class with the same name as a function in the parent class, the inheritance of the parent method will be overridden."
   ],
   "metadata": {
    "collapsed": false
   },
   "id": "d719f43f07a65ffb"
  },
  {
   "cell_type": "code",
   "execution_count": 3,
   "outputs": [
    {
     "name": "stdout",
     "output_type": "stream",
     "text": [
      "Welcome Mike Olsen to the class of 2019\n"
     ]
    }
   ],
   "source": [
    "class Student1(Person):\n",
    "  def __init__(self, fname, lname, year):\n",
    "    super().__init__(fname, lname)\n",
    "    self.graduation_year = year\n",
    "\n",
    "  def welcome(self):\n",
    "    print(\"Welcome\", self.firstname, self.lastname, \"to the class of\", self.graduation_year)\n",
    "      \n",
    "x = Student1(\"Mike\", \"Olsen\", 2019)\n",
    "x.welcome()"
   ],
   "metadata": {
    "collapsed": false,
    "ExecuteTime": {
     "end_time": "2023-11-02T06:43:53.852553Z",
     "start_time": "2023-11-02T06:43:53.716586Z"
    }
   },
   "id": "b917493e83220587"
  },
  {
   "cell_type": "code",
   "execution_count": 3,
   "outputs": [],
   "source": [],
   "metadata": {
    "collapsed": false,
    "ExecuteTime": {
     "end_time": "2023-11-02T06:43:53.853087Z",
     "start_time": "2023-11-02T06:43:53.732936Z"
    }
   },
   "id": "f5cb9add045f6c66"
  }
 ],
 "metadata": {
  "kernelspec": {
   "display_name": "Python 3",
   "language": "python",
   "name": "python3"
  },
  "language_info": {
   "codemirror_mode": {
    "name": "ipython",
    "version": 2
   },
   "file_extension": ".py",
   "mimetype": "text/x-python",
   "name": "python",
   "nbconvert_exporter": "python",
   "pygments_lexer": "ipython2",
   "version": "2.7.6"
  }
 },
 "nbformat": 4,
 "nbformat_minor": 5
}
