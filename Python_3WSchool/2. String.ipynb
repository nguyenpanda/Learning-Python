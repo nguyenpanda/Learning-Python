{
 "cells": [
  {
   "cell_type": "markdown",
   "source": [
    "# String"
   ],
   "metadata": {
    "collapsed": false
   },
   "id": "f297271f466d452b"
  },
  {
   "cell_type": "markdown",
   "source": [
    "# Escape Character\n",
    "[String 3WSchool](https://www.w3schools.com/python/python_strings_escape.asp)\n",
    "\n",
    "<table style=\"width:100%\">\n",
    "\n",
    "<tr>\n",
    "    <td>\\'</td>\n",
    "    <td>Single Quote</td>\n",
    "</tr>\n",
    "\n",
    "<tr>\n",
    "    <td>\\\\</td>\n",
    "    <td>Backslash</td>\n",
    "</tr>\n",
    "\n",
    "<tr>\n",
    "    <td>\\n</td>\n",
    "    <td>New Line</td>\n",
    "</tr>\n",
    "\n",
    "<tr>\n",
    "    <td>\\r</td>\n",
    "    <td>Carriage Return</td>\n",
    "</tr>\n",
    "\n",
    "<tr>\n",
    "    <td>\\t</td>\n",
    "    <td>Tab</td>\n",
    "</tr>\n",
    "\n",
    "<tr>\n",
    "    <td>\\b</td>\n",
    "    <td>Backspace</td>\n",
    "</tr>\n",
    "\n",
    "<tr>\n",
    "    <td>\\f</td>\n",
    "    <td>Form Feed</td>\n",
    "</tr>\n",
    "\n",
    "<tr>\n",
    "    <td>\\ooo</td>\n",
    "    <td>Octal value</td>\n",
    "</tr>\n",
    "\n",
    "<tr>\n",
    "    <td>\\xhh</td>\n",
    "    <td>Hex value</td>\n",
    "</tr>\n",
    "</table>"
   ],
   "metadata": {
    "collapsed": false
   },
   "id": "e1ef0051a6268a3c"
  },
  {
   "cell_type": "code",
   "execution_count": null,
   "outputs": [],
   "source": [],
   "metadata": {
    "collapsed": false,
    "ExecuteTime": {
     "end_time": "2023-11-02T06:43:27.356993Z",
     "start_time": "2023-11-02T06:43:27.138857Z"
    }
   },
   "id": "67fb1886ffc6cf1"
  },
  {
   "cell_type": "markdown",
   "source": [
    "# Method\n",
    "- https://www.w3schools.com/python/python_strings_methods.asp"
   ],
   "metadata": {
    "collapsed": false
   },
   "id": "7dc57f4f33f593d"
  },
  {
   "cell_type": "markdown",
   "source": [
    "### Case (No argument)\n",
    "<table style=\"width:100%\">\n",
    "  <tr>\n",
    "    <td><strong>Method</strong></td>\n",
    "    <td><strong>Description</strong></td>\n",
    "  </tr>\n",
    "  \n",
    "  <tr>\n",
    "    <td>capitalize()</td>\n",
    "    <td>Converts the first character to upper case</td>\n",
    "  </tr>\n",
    "  \n",
    "  <tr>\n",
    "    <td>casefold()</td>\n",
    "    <td>Converts string into lower case</td>\n",
    "  </tr>\n",
    "  \n",
    "  <tr>\n",
    "    <td>lower()</td>\n",
    "    <td>Converts a string into lower case</td>\n",
    "  </tr>\n",
    "  \n",
    "  <tr>\n",
    "    <td>title()</td>\n",
    "    <td>Converts the first character of each word to upper case</td>\n",
    "  </tr>\n",
    "  \n",
    "  <tr>\n",
    "    <td>upper()</td>\n",
    "    <td>Converts a string into upper case</td>\n",
    "  </tr>"
   ],
   "metadata": {
    "collapsed": false
   },
   "id": "8ad9d080392cccd2"
  },
  {
   "cell_type": "code",
   "execution_count": null,
   "outputs": [],
   "source": [],
   "metadata": {
    "collapsed": false,
    "ExecuteTime": {
     "end_time": "2023-11-02T06:43:27.357721Z",
     "start_time": "2023-11-02T06:43:27.151809Z"
    }
   },
   "id": "79d54ab08d4c120c"
  },
  {
   "cell_type": "markdown",
   "source": [
    "### Format\n",
    "<table style=\"width:100%\">\n",
    "  <tr>\n",
    "    <td>format(*arg)</td>\n",
    "    <td>Formats specified values in a string</td>\n",
    "  </tr>\n",
    "  \n",
    "  <tr>\n",
    "    <td>format_map(dict)</td>\n",
    "    <td>Formats specified values in a string</td>\n",
    "  </tr>\n",
    "  \n",
    "  <tr>\n",
    "    <td>str.maketrans('some_str', 'some_str', 'some_opt_str')</td>\n",
    "    <td>Returns a translation table (dict type) to be used in translations</td>\n",
    "  </tr>\n",
    "  \n",
    "  <tr>\n",
    "    <td>'some_str'.translate(<dict>)</td>\n",
    "    <td>Returns a translated string</td>\n",
    "  </tr>\n",
    "  \n",
    "  <tr>\n",
    "    <td>expandtabs()</td>\n",
    "    <td>Sets the tab size of the string</td>\n",
    "  </tr>\n",
    "  \n",
    "  <tr>\n",
    "    <td>zfill(int_width)</td>\n",
    "    <td>Fills the string with a specified number of 0 values at the beginning</td>\n",
    "  </\n",
    "  \n",
    "</table>\n",
    "\n",
    "### Alignment\n",
    "<table style=\"width:100%\">\n",
    "  <tr>\n",
    "    <td>center()</td>\n",
    "    <td>Returns a centered string</td>\n",
    "  </tr>\n",
    "  \n",
    "  <tr>\n",
    "    <td>ljust()</td>\n",
    "    <td>Returns a left justified version of the string</td>\n",
    "  </tr>\n",
    "  \n",
    "  <tr>\n",
    "    <td>rjust()</td>\n",
    "    <td>Returns a right justified version of the string</td>\n",
    "  </tr>\n",
    "  \n",
    "  <tr>\n",
    "    <td>swapcase()</td>\n",
    "    <td>Swaps cases, lower case becomes upper case and vice versa</td>\n",
    "  </tr>\n",
    "</table>"
   ],
   "metadata": {
    "collapsed": false
   },
   "id": "54c1f1ed8f09ac98"
  },
  {
   "cell_type": "code",
   "execution_count": 1,
   "outputs": [
    {
     "name": "stdout",
     "output_type": "stream",
     "text": [
      "I want to pay 49.95 dollars for 3 pieces of item 567.\n",
      "['x⁰', 'x¹', 'x²', 'x³', 'x⁴', 'x⁵', 'x⁶', 'x⁷', 'x⁸', 'x⁹']\n"
     ]
    }
   ],
   "source": [
    "quantity = 3\n",
    "itemno = 567\n",
    "price = 49.95\n",
    "myorder = \"I want to pay {2} dollars for {0} pieces of item {1}.\"\n",
    "print(myorder.format(quantity, itemno, price))\n",
    "\n",
    "power_series = []\n",
    "base = \"x\"\n",
    "n = 10\n",
    "\n",
    "for power in range(0, n):\n",
    "    superscript_power = str(power).translate(str.maketrans(\"0123456789\", \"⁰¹²³⁴⁵⁶⁷⁸⁹\"))\n",
    "    power_series.append(f'{base}{superscript_power}')\n",
    "print(power_series)"
   ],
   "metadata": {
    "collapsed": false,
    "ExecuteTime": {
     "end_time": "2023-11-02T06:43:27.359043Z",
     "start_time": "2023-11-02T06:43:27.166721Z"
    }
   },
   "id": "eb0870b933109503"
  },
  {
   "cell_type": "markdown",
   "source": [
    "### Alignment\n",
    "<table style=\"width:100%\">\n",
    "\n",
    "</table>\n"
   ],
   "metadata": {
    "collapsed": false
   },
   "id": "ef0984092a1787bd"
  },
  {
   "cell_type": "code",
   "execution_count": 1,
   "outputs": [],
   "source": [],
   "metadata": {
    "collapsed": false,
    "ExecuteTime": {
     "end_time": "2023-11-02T06:43:27.359632Z",
     "start_time": "2023-11-02T06:43:27.185681Z"
    }
   },
   "id": "e71aba09524b2cd2"
  },
  {
   "cell_type": "markdown",
   "source": [
    "### Checking\n",
    "<table style=\"width:100%\">\n",
    "  <tr>\n",
    "    <td>startswith()</td>\n",
    "    <td>Returns true if the string starts with the specified value</td>\n",
    "  </tr>\n",
    "\n",
    "  <tr>\n",
    "    <td>endswith()</td>\n",
    "    <td>Returns true if the string ends with the specified value</td>\n",
    "  </tr>\n",
    "  \n",
    "  <tr>\n",
    "    <td>isalnum()</td>\n",
    "    <td>Returns True if all characters in the string are alphanumeric</td>\n",
    "  </tr>\n",
    "  \n",
    "  <tr>\n",
    "    <td>isalpha()</td>\n",
    "    <td>Returns True if all characters in the string are in the alphabet</td>\n",
    "  </tr>\n",
    "  \n",
    "  <tr>\n",
    "    <td>isascii()</td>\n",
    "    <td>Returns True if all characters in the string are ascii characters</td>\n",
    "  </tr>\n",
    "  \n",
    "  <tr>\n",
    "    <td>isdecimal()</td>\n",
    "    <td>Returns True if all characters in the string are decimals</td>\n",
    "  </tr>\n",
    "  \n",
    "  <tr>\n",
    "    <td>isdigit()</td>\n",
    "    <td>Returns True if all characters in the string are digits</td>\n",
    "  </tr>\n",
    "  \n",
    "  <tr>\n",
    "    <td>isidentifier()</td>\n",
    "    <td>Returns True if the string is an identifier</td>\n",
    "  </tr>\n",
    "  \n",
    "  <tr>\n",
    "    <td>islower()</td>\n",
    "    <td>Returns True if all characters in the string are lower case</td>\n",
    "  </tr>\n",
    "  \n",
    "  <tr>\n",
    "    <td>isnumeric()</td>\n",
    "    <td>Returns True if all characters in the string are numeric</td>\n",
    "  </tr>\n",
    "  \n",
    "  <tr>\n",
    "    <td>isprintable()</td>\n",
    "    <td>Returns True if all characters in the string are printable</td>\n",
    "  </tr>\n",
    "  \n",
    "  <tr>\n",
    "    <td>isspace()</td>\n",
    "    <td>Returns True if all characters in the string are whitespaces</td>\n",
    "  </tr>\n",
    "  \n",
    "  <tr>\n",
    "    <td>istitle()</td>\n",
    "    <td>Returns True if the string follows the rules of a title</td>\n",
    "  </tr>\n",
    "  \n",
    "  <tr>\n",
    "    <td>isupper()</td>\n",
    "    <td>Returns True if all characters in the string are upper case</td>\n",
    "  </tr>\n",
    "</table>\n"
   ],
   "metadata": {
    "collapsed": false
   },
   "id": "243918e83573ac41"
  },
  {
   "cell_type": "code",
   "execution_count": 1,
   "outputs": [],
   "source": [],
   "metadata": {
    "collapsed": false,
    "ExecuteTime": {
     "end_time": "2023-11-02T06:43:27.361323Z",
     "start_time": "2023-11-02T06:43:27.209383Z"
    }
   },
   "id": "4ce5bf2bd4cd498e"
  },
  {
   "cell_type": "markdown",
   "source": [
    "### Join, Split, Strip, Partition\n",
    "\n",
    "<table style=\"width:100%\">\n",
    "  <tr>\n",
    "    <td>join(iterable)</td>\n",
    "    <td>Joins the elements of an iterable to the end of the string</td>\n",
    "  </tr>\n",
    "\n",
    "  <tr>\n",
    "    <td>lstrip()</td>\n",
    "    <td>Returns a left trim version of the string</td>\n",
    "  </tr>\n",
    "\n",
    "  <tr>\n",
    "    <td>partition()</td>\n",
    "    <td>Returns a tuple where the string is parted into three parts</td>\n",
    "  </tr>\n",
    "  \n",
    "  <tr>\n",
    "    <td>split()</td>\n",
    "    <td>Splits the string at the specified separator, and returns a list</td>\n",
    "  </tr>\n",
    "  \n",
    "  <tr>\n",
    "    <td>splitlines()</td>\n",
    "    <td>Splits the string at line breaks and returns a list</td>\n",
    "  </tr>\n",
    "\n",
    "  <tr>\n",
    "    <td>strip(char, opt_maxsplit)</td>\n",
    "    <td>Remove str (default spaces) at the beginning and at the end of the string</td>\n",
    "  </tr>\n",
    "  \n",
    "  <tr>\n",
    "    <td>rpartition()</td>\n",
    "    <td>Returns a tuple where the string is parted into three parts</td>\n",
    "  </tr>\n",
    "  \n",
    "  <tr>\n",
    "    <td>rsplit()</td>\n",
    "    <td>Splits the string at the specified separator, and returns a list</td>\n",
    "  </tr>\n",
    "  \n",
    "  <tr>\n",
    "    <td>rstrip()</td>\n",
    "    <td>Returns a right trim version of the string</td>\n",
    "  </tr>\n",
    "</table>"
   ],
   "metadata": {
    "collapsed": false
   },
   "id": "3285ce623c8d8242"
  },
  {
   "cell_type": "code",
   "execution_count": 3,
   "outputs": [
    {
     "name": "stdout",
     "output_type": "stream",
     "text": [
      "John->Peter->Vicky\n",
      "['welcome', 'to', 'the', 'jungle']\n",
      "banana\n"
     ]
    }
   ],
   "source": [
    "myTuple = (\"John\", \"Peter\", \"Vicky\")\n",
    "x = \"->\".join(myTuple)\n",
    "print(x)\n",
    "\n",
    "txt = \"welcome to the jungle\"\n",
    "x = txt.split()\n",
    "print(x)\n",
    "\n",
    "txt = \",,,,,rrttgg.....banana....rrr\"\n",
    "x = txt.strip(\",.grt\")\n",
    "print(x)"
   ],
   "metadata": {
    "collapsed": false,
    "ExecuteTime": {
     "end_time": "2023-11-02T17:00:27.966394Z",
     "start_time": "2023-11-02T17:00:27.948810Z"
    }
   },
   "id": "1896a4286ed72c1e"
  },
  {
   "cell_type": "markdown",
   "source": [
    "### Encoding\n",
    "<table style=\"width:100%\">\n",
    "  <tr>\n",
    "    <td>encode(encoding=, errors=)</td>\n",
    "    <td>Returns an encoded version of the string</td>\n",
    "  </tr>\n",
    "</table>\n",
    "\n",
    "### Parameters\n",
    "<table style=\"width:100%\">\n",
    "<tr>\n",
    "  <td>encoding</td>\n",
    "  <td>Optional. A String specifying the encoding to use. Default is UTF-8</td>\n",
    "</tr>\n",
    "\n",
    "<tr>\n",
    "  <td>errors</td>\n",
    "  <td>Optional. A String specifying the error method. Legal values are:</td>\n",
    "</tr>\n",
    "<tr>\n",
    "  <td></td>\n",
    "  <td>- `'backslashreplace'`: uses a backslash instead of the character that could not be encoded</td>\n",
    "</tr>\n",
    "<tr>\n",
    "  <td></td>\n",
    "  <td>- `'ignore'`: ignores the characters that cannot be encoded</td>\n",
    "</tr>\n",
    "<tr>\n",
    "  <td></td>\n",
    "  <td>- `'namereplace'`: replaces the character with a text explaining the character</td>\n",
    "</tr>\n",
    "<tr>\n",
    "  <td></td>\n",
    "  <td>- `'strict'`: Default, raises an error on failure</td>\n",
    "</tr>\n",
    "<tr>\n",
    "  <td></td>\n",
    "  <td>- `'replace'`: replaces the character with a questionmark</td>\n",
    "</tr>\n",
    "<tr>\n",
    "  <td></td>\n",
    "  <td>- `'xmlcharrefreplace'`: replaces the character with an xml character</td>\n",
    "</tr>\n",
    "</table>"
   ],
   "metadata": {
    "collapsed": false
   },
   "id": "79f12442bd50cbd9"
  },
  {
   "cell_type": "code",
   "execution_count": 3,
   "outputs": [
    {
     "name": "stdout",
     "output_type": "stream",
     "text": [
      "b'My name is St\\xc3\\xa5le'\n",
      "b'My name is St\\xc3\\xa5le'\n",
      "b'My name is St\\xc3\\xa5le'\n",
      "b'My name is St\\xc3\\xa5le'\n",
      "b'My name is St\\xc3\\xa5le'\n",
      "----------------\n",
      "b'My name is St\\\\xe5le'\n",
      "b'My name is Stle'\n",
      "b'My name is St\\\\N{LATIN SMALL LETTER A WITH RING ABOVE}le'\n",
      "b'My name is St?le'\n",
      "b'My name is St&#229;le'\n"
     ]
    }
   ],
   "source": [
    "txt = \"My name is Ståle\"\n",
    "# encoding default UTF-8\n",
    "print(txt.encode(errors=\"backslashreplace\"))\n",
    "print(txt.encode(errors=\"ignore\"))\n",
    "print(txt.encode(errors=\"namereplace\"))\n",
    "print(txt.encode(errors=\"replace\"))\n",
    "print(txt.encode(errors=\"xmlcharrefreplace\"))\n",
    "print('----------------')\n",
    "print(txt.encode(encoding=\"ascii\",errors=\"backslashreplace\"))\n",
    "print(txt.encode(encoding=\"ascii\",errors=\"ignore\"))\n",
    "print(txt.encode(encoding=\"ascii\",errors=\"namereplace\"))\n",
    "print(txt.encode(encoding=\"ascii\",errors=\"replace\"))\n",
    "print(txt.encode(encoding=\"ascii\",errors=\"xmlcharrefreplace\"))"
   ],
   "metadata": {
    "collapsed": false,
    "ExecuteTime": {
     "end_time": "2023-11-02T06:43:27.364644Z",
     "start_time": "2023-11-02T06:43:27.242700Z"
    }
   },
   "id": "a9d6323201fba5e7"
  },
  {
   "cell_type": "code",
   "execution_count": 3,
   "outputs": [],
   "source": [],
   "metadata": {
    "collapsed": false,
    "ExecuteTime": {
     "end_time": "2023-11-02T06:43:27.364993Z",
     "start_time": "2023-11-02T06:43:27.254519Z"
    }
   },
   "id": "d19afef5afd5c700"
  }
 ],
 "metadata": {
  "kernelspec": {
   "display_name": "Python 3",
   "language": "python",
   "name": "python3"
  },
  "language_info": {
   "codemirror_mode": {
    "name": "ipython",
    "version": 2
   },
   "file_extension": ".py",
   "mimetype": "text/x-python",
   "name": "python",
   "nbconvert_exporter": "python",
   "pygments_lexer": "ipython2",
   "version": "2.7.6"
  }
 },
 "nbformat": 4,
 "nbformat_minor": 5
}
