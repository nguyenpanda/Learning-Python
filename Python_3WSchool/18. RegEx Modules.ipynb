{
 "cells": [
  {
   "cell_type": "markdown",
   "source": [
    "# RegEx Modules (String handle)\n",
    "- A RegEx, or Regular Expression, is a sequence of characters that forms a search pattern.\n",
    "\n",
    "- RegEx can be used to check if a string contains the specified search pattern.\n",
    "\n",
    "[ ]()"
   ],
   "metadata": {
    "collapsed": false
   },
   "id": "cecde751b4e5adcf"
  },
  {
   "cell_type": "code",
   "execution_count": 1,
   "id": "initial_id",
   "metadata": {
    "collapsed": true,
    "ExecuteTime": {
     "end_time": "2023-11-02T07:14:44.665753Z",
     "start_time": "2023-11-02T07:14:44.655893Z"
    }
   },
   "outputs": [],
   "source": [
    "import re"
   ]
  },
  {
   "cell_type": "code",
   "execution_count": 12,
   "outputs": [
    {
     "name": "stdout",
     "output_type": "stream",
     "text": [
      "<re.Match object; span=(0, 17), match='The rain in Spain'>\n"
     ]
    }
   ],
   "source": [
    "txt = \"The rain in Spain\"\n",
    "x = re.search(\"^The.*Spain$\", txt)\n",
    "print(x)"
   ],
   "metadata": {
    "collapsed": false,
    "ExecuteTime": {
     "end_time": "2023-11-02T07:27:43.127711Z",
     "start_time": "2023-11-02T07:27:43.111647Z"
    }
   },
   "id": "9212e1bf81f43b33"
  },
  {
   "cell_type": "code",
   "execution_count": null,
   "outputs": [],
   "source": [],
   "metadata": {
    "collapsed": false
   },
   "id": "98fdc4649e9e23a2"
  },
  {
   "cell_type": "markdown",
   "source": [
    "# RegEx Functions\n",
    "\n",
    "<table style=\"width:100%\">\n",
    "  <tr>\n",
    "    <th>Function</th>\n",
    "    <th>Description</th>\n",
    "  </tr>\n",
    "  <tr>\n",
    "    <td>findall()</td>\n",
    "    <td>Returns a list containing all matches</td>\n",
    "  </tr>\n",
    "  <tr>\n",
    "    <td>search()</td>\n",
    "    <td>Returns a Match object if there is a match anywhere in the string</td>\n",
    "  </tr>\n",
    "  <tr>\n",
    "    <td>split()</td>\n",
    "    <td>Returns a list where the string has been split at each match</td>\n",
    "  </tr>\n",
    "  <tr>\n",
    "    <td>sub()</td>\n",
    "    <td>Replaces one or many matches with a string</td>\n",
    "  </tr>\n",
    "</table>\n"
   ],
   "metadata": {
    "collapsed": false
   },
   "id": "897f4832813956e6"
  },
  {
   "cell_type": "code",
   "execution_count": 13,
   "outputs": [
    {
     "name": "stdout",
     "output_type": "stream",
     "text": [
      "['ai', 'ai']\n",
      "[]\n"
     ]
    }
   ],
   "source": [
    "x = re.findall(\"ai\", txt)\n",
    "print(x)\n",
    "x = re.findall(\"Portugal\", txt)\n",
    "print(x)"
   ],
   "metadata": {
    "collapsed": false,
    "ExecuteTime": {
     "end_time": "2023-11-02T07:27:45.324615Z",
     "start_time": "2023-11-02T07:27:45.282539Z"
    }
   },
   "id": "ed993ba1c5b1d57e"
  },
  {
   "cell_type": "code",
   "execution_count": 14,
   "outputs": [
    {
     "name": "stdout",
     "output_type": "stream",
     "text": [
      "The first white-space character is located in position: 3\n",
      "None\n"
     ]
    },
    {
     "name": "stderr",
     "output_type": "stream",
     "text": [
      "<>:1: SyntaxWarning: invalid escape sequence '\\s'\n",
      "<>:1: SyntaxWarning: invalid escape sequence '\\s'\n",
      "/var/folders/n4/wtkf6_bj131_573hkrny3lh00000gn/T/ipykernel_4441/435733742.py:1: SyntaxWarning: invalid escape sequence '\\s'\n",
      "  x = re.search('\\s', txt)\n"
     ]
    }
   ],
   "source": [
    "x = re.search('\\s', txt)\n",
    "print(\"The first white-space character is located in position:\", x.start())\n",
    "\n",
    "x = re.search(\"Portugal\", txt)\n",
    "print(x)"
   ],
   "metadata": {
    "collapsed": false,
    "ExecuteTime": {
     "end_time": "2023-11-02T07:27:46.929196Z",
     "start_time": "2023-11-02T07:27:46.912202Z"
    }
   },
   "id": "cfd56d49d6b3aaa8"
  },
  {
   "cell_type": "code",
   "execution_count": 17,
   "outputs": [
    {
     "name": "stdout",
     "output_type": "stream",
     "text": [
      "['The', 'rain', 'in', 'Spain']\n",
      "['The', 'rain in Spain']\n"
     ]
    },
    {
     "name": "stderr",
     "output_type": "stream",
     "text": [
      "<>:1: SyntaxWarning: invalid escape sequence '\\s'\n",
      "<>:4: SyntaxWarning: invalid escape sequence '\\s'\n",
      "<>:1: SyntaxWarning: invalid escape sequence '\\s'\n",
      "<>:4: SyntaxWarning: invalid escape sequence '\\s'\n",
      "/var/folders/n4/wtkf6_bj131_573hkrny3lh00000gn/T/ipykernel_4441/2052165538.py:1: SyntaxWarning: invalid escape sequence '\\s'\n",
      "  x = re.split(\"\\s\", txt)\n",
      "/var/folders/n4/wtkf6_bj131_573hkrny3lh00000gn/T/ipykernel_4441/2052165538.py:4: SyntaxWarning: invalid escape sequence '\\s'\n",
      "  x = re.split(\"\\s\", txt, 1)\n"
     ]
    }
   ],
   "source": [
    "x = re.split(\"\\s\", txt)\n",
    "print(x)\n",
    "\n",
    "x = re.split(\"\\s\", txt, 1)\n",
    "print(x)"
   ],
   "metadata": {
    "collapsed": false,
    "ExecuteTime": {
     "end_time": "2023-11-02T07:28:15.905262Z",
     "start_time": "2023-11-02T07:28:15.871858Z"
    }
   },
   "id": "8c35730ba5cbcfaa"
  },
  {
   "cell_type": "code",
   "execution_count": 20,
   "outputs": [
    {
     "name": "stdout",
     "output_type": "stream",
     "text": [
      "The9rain9in9Spain\n",
      "The9rain9in Spain\n"
     ]
    },
    {
     "name": "stderr",
     "output_type": "stream",
     "text": [
      "<>:1: SyntaxWarning: invalid escape sequence '\\s'\n",
      "<>:4: SyntaxWarning: invalid escape sequence '\\s'\n",
      "<>:1: SyntaxWarning: invalid escape sequence '\\s'\n",
      "<>:4: SyntaxWarning: invalid escape sequence '\\s'\n",
      "/var/folders/n4/wtkf6_bj131_573hkrny3lh00000gn/T/ipykernel_4441/136845778.py:1: SyntaxWarning: invalid escape sequence '\\s'\n",
      "  x = re.sub(\"\\s\", \"9\", txt)\n",
      "/var/folders/n4/wtkf6_bj131_573hkrny3lh00000gn/T/ipykernel_4441/136845778.py:4: SyntaxWarning: invalid escape sequence '\\s'\n",
      "  x = re.sub(\"\\s\", \"9\", txt, 2)\n"
     ]
    }
   ],
   "source": [
    "x = re.sub(\"\\s\", \"9\", txt)\n",
    "print(x)\n",
    "\n",
    "x = re.sub(\"\\s\", \"9\", txt, 2)\n",
    "print(x)"
   ],
   "metadata": {
    "collapsed": false,
    "ExecuteTime": {
     "end_time": "2023-11-02T07:29:00.010008Z",
     "start_time": "2023-11-02T07:28:59.980265Z"
    }
   },
   "id": "9f39d8f88bac3920"
  },
  {
   "cell_type": "code",
   "execution_count": 24,
   "outputs": [
    {
     "name": "stdout",
     "output_type": "stream",
     "text": [
      "(12, 17)\n",
      "Spain\n"
     ]
    }
   ],
   "source": [
    "x = re.search(r\"\\bS\\w+\", txt)\n",
    "print(x.span()) #  returns a tuple containing the start-, and end positions of the match.\n",
    "# print(x.string()) # returns the string passed into the function\n",
    "print(x.group()) # returns the part of the string where there was a match"
   ],
   "metadata": {
    "collapsed": false,
    "ExecuteTime": {
     "end_time": "2023-11-02T07:34:35.150707Z",
     "start_time": "2023-11-02T07:34:35.105239Z"
    }
   },
   "id": "96eb2710d73febae"
  },
  {
   "cell_type": "code",
   "execution_count": 20,
   "outputs": [],
   "source": [],
   "metadata": {
    "collapsed": false,
    "ExecuteTime": {
     "end_time": "2023-11-02T07:29:38.822709Z",
     "start_time": "2023-11-02T07:29:38.795148Z"
    }
   },
   "id": "20d9aaaed65232b7"
  },
  {
   "cell_type": "markdown",
   "source": [
    "# Metacharacters\n",
    "- Metacharacters are characters with a special meaning\n",
    "\n",
    "<table style=\"width:100%\">\n",
    "  <tr>\n",
    "    <th>Character</th>\n",
    "    <th>Description</th>\n",
    "    <th>Example</th>\n",
    "  </tr>\n",
    "  <tr>\n",
    "    <td>[]</td>\n",
    "    <td>A set of characters</td>\n",
    "    <td>\"[a-m]\"</td>\n",
    "  </tr>\n",
    "  <tr>\n",
    "    <td>\\</td>\n",
    "    <td>Signals a special sequence (can also be used to escape special characters)</td>\n",
    "    <td>\"\\d\"</td>\n",
    "  </tr>\n",
    "  <tr>\n",
    "    <td>.</td>\n",
    "    <td>Any character (except newline character)</td>\n",
    "    <td>\"he..o\"</td>\n",
    "  </tr>\n",
    "  <tr>\n",
    "    <td>^</td>\n",
    "    <td>Starts with</td>\n",
    "    <td>\"^hello\"</td>\n",
    "  </tr>\n",
    "  \n",
    "  <tr>\n",
    "    <td>$\\$</td>\n",
    "    <td>Ends with</td>\n",
    "    <td>\"planet$\"</td>\n",
    "  </tr>\n",
    "  \n",
    "  <tr>\n",
    "    <td>*</td>\n",
    "    <td>Zero or more occurrences</td>\n",
    "    <td>\"he.*o\"</td>\n",
    "  </tr>\n",
    "  <tr>\n",
    "    <td>+</td>\n",
    "    <td>One or more occurrences</td>\n",
    "    <td>\"he.+o\"</td>\n",
    "  </tr>\n",
    "  <tr>\n",
    "    <td>?</td>\n",
    "    <td>Zero or one occurrences</td>\n",
    "    <td>\"he.?o\"</td>\n",
    "  </tr>\n",
    "  <tr>\n",
    "    <td>{}</td>\n",
    "    <td>Exactly the specified number of occurrences</td>\n",
    "    <td>\"he.{2}o\"</td>\n",
    "  </tr>\n",
    "  <tr>\n",
    "    <td>|</td>\n",
    "    <td>Either or</td>\n",
    "    <td>\"falls|stays\"</td>\n",
    "  </tr>\n",
    "  <tr>\n",
    "    <td>()</td>\n",
    "    <td>Capture and group</td>\n",
    "    <td></td>\n",
    "  </tr>\n",
    "</table>\n"
   ],
   "metadata": {
    "collapsed": false
   },
   "id": "863f19f0f59587f9"
  },
  {
   "cell_type": "code",
   "execution_count": null,
   "outputs": [],
   "source": [],
   "metadata": {
    "collapsed": false
   },
   "id": "43a1add7834fa4ba"
  },
  {
   "cell_type": "markdown",
   "source": [
    "# Special Sequences\n",
    "- A special sequence is a \\ followed by one of the characters in the list below, and has a special meaning\n",
    "\n",
    "<table style=\"width:100%\">\n",
    "  <tr>\n",
    "    <th>Character</th>\n",
    "    <th>Description</th>\n",
    "    <th>Example</th>\n",
    "  </tr>\n",
    "  <tr>\n",
    "    <td>\\A</td>\n",
    "    <td>Returns a match if the specified characters are at the beginning of the string</td>\n",
    "    <td>\"\\AThe\"</td>\n",
    "  </tr>\n",
    "  <tr>\n",
    "    <td>\\b</td>\n",
    "    <td>Returns a match where the specified characters are at the beginning or at the end of a word</td>\n",
    "    <td>r\"\\bain\" <br> r\"ain\\b\"</td>\n",
    "  </tr>\n",
    "  <tr>\n",
    "    <td>\\B</td>\n",
    "    <td>Returns a match where the specified characters are present, but NOT at the beginning or at the end of a word</td>\n",
    "    <td>r\"\\Bain\" <br> r\"ain\\B\"</td>\n",
    "  </tr>\n",
    "  <tr>\n",
    "    <td>\\d</td>\n",
    "    <td>Returns a match where the string contains digits (numbers from 0-9)</td>\n",
    "    <td>\"\\d\"</td>\n",
    "  </tr>\n",
    "  <tr>\n",
    "    <td>\\D</td>\n",
    "    <td>Returns a match where the string DOES NOT contain digits</td>\n",
    "    <td>\"\\D\"</td>\n",
    "  </tr>\n",
    "  <tr>\n",
    "    <td>\\s</td>\n",
    "    <td>Returns a match where the string contains a white space character</td>\n",
    "    <td>\"\\s\"</td>\n",
    "  </tr>\n",
    "  <tr>\n",
    "    <td>\\S</td>\n",
    "    <td>Returns a match where the string DOES NOT contain a white space character</td>\n",
    "    <td>\"\\S\"</td>\n",
    "  </tr>\n",
    "  <tr>\n",
    "    <td>\\w</td>\n",
    "    <td>Returns a match where the string contains any word characters (characters from a to Z, digits from 0-9, and the underscore _ character)</td>\n",
    "    <td>\"\\w\"</td>\n",
    "  </tr>\n",
    "  <tr>\n",
    "    <td>\\W</td>\n",
    "    <td>Returns a match where the string DOES NOT contain any word characters</td>\n",
    "    <td>\"\\W\"</td>\n",
    "  </tr>\n",
    "  <tr>\n",
    "    <td>\\Z</td>\n",
    "    <td>Returns a match if the specified characters are at the end of the string</td>\n",
    "    <td>\"Spain\\Z\"</td>\n",
    "  </tr>\n",
    "</table>\n"
   ],
   "metadata": {
    "collapsed": false
   },
   "id": "e986b5fc74fd7051"
  },
  {
   "cell_type": "code",
   "execution_count": null,
   "outputs": [],
   "source": [],
   "metadata": {
    "collapsed": false
   },
   "id": "4a1985e8b1ef0801"
  },
  {
   "cell_type": "markdown",
   "source": [
    "# Sets\n",
    "- A set is a set of characters inside a pair of square brackets [] with a special meaning\n",
    "\n",
    "<table style=\"width:100%\">\n",
    "  <tr>\n",
    "    <th>Set</th>\n",
    "    <th>Description</th>\n",
    "  </tr>\n",
    "  <tr>\n",
    "    <td>[arn]</td>\n",
    "    <td>Returns a match where one of the specified characters (a, r, or n) is present</td>\n",
    "  </tr>\n",
    "  <tr>\n",
    "    <td>[a-n]</td>\n",
    "    <td>Returns a match for any lower case character, alphabetically between a and n</td>\n",
    "  </tr>\n",
    "  <tr>\n",
    "    <td>[^arn]</td>\n",
    "    <td>Returns a match for any character EXCEPT a, r, and n</td>\n",
    "  </tr>\n",
    "  <tr>\n",
    "    <td>[0123]</td>\n",
    "    <td>Returns a match where any of the specified digits (0, 1, 2, or 3) are present</td>\n",
    "  </tr>\n",
    "  <tr>\n",
    "    <td>[0-9]</td>\n",
    "    <td>Returns a match for any digit between 0 and 9</td>\n",
    "  </tr>\n",
    "  <tr>\n",
    "    <td>[0-5][0-9]</td>\n",
    "    <td>Returns a match for any two-digit numbers from 00 and 59</td>\n",
    "  </tr>\n",
    "  <tr>\n",
    "    <td>[a-zA-Z]</td>\n",
    "    <td>Returns a match for any character alphabetically between a and z, lower case OR upper case</td>\n",
    "  </tr>\n",
    "  <tr>\n",
    "    <td>[+]</td>\n",
    "    <td>In sets, +, *, ., |, (), $,{} has no special meaning, so [+] means: return a match for any + character in the string</td>\n",
    "  </tr>\n",
    "</table>\n"
   ],
   "metadata": {
    "collapsed": false
   },
   "id": "4907b686c89dee4a"
  },
  {
   "cell_type": "code",
   "execution_count": null,
   "outputs": [],
   "source": [],
   "metadata": {
    "collapsed": false
   },
   "id": "ebbc9aa23389b845"
  }
 ],
 "metadata": {
  "kernelspec": {
   "display_name": "Python 3",
   "language": "python",
   "name": "python3"
  },
  "language_info": {
   "codemirror_mode": {
    "name": "ipython",
    "version": 2
   },
   "file_extension": ".py",
   "mimetype": "text/x-python",
   "name": "python",
   "nbconvert_exporter": "python",
   "pygments_lexer": "ipython2",
   "version": "2.7.6"
  }
 },
 "nbformat": 4,
 "nbformat_minor": 5
}
